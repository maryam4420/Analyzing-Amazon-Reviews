{
 "cells": [
  {
   "cell_type": "code",
   "execution_count": 2,
   "metadata": {},
   "outputs": [],
   "source": [
    "# Visualizations and data manipulation\n",
    "import pandas as pd\n",
    "import numpy as np\n",
    "import matplotlib.pyplot as plt\n",
    "import seaborn as sns\n",
    "import matplotlib.colors as colors\n",
    "%matplotlib inline\n",
    "\n",
    "# text preprocessing\n",
    "import nltk\n",
    "from nltk.corpus import stopwords\n",
    "from nltk.stem import PorterStemmer, WordNetLemmatizer\n",
    "from nltk.tokenize import word_tokenize, sent_tokenize, regexp_tokenize\n",
    "from nltk.tokenize import RegexpTokenizer\n",
    "from nltk.tokenize.toktok import ToktokTokenizer\n",
    "from bs4 import BeautifulSoup\n",
    "import re\n",
    "import unicodedata\n",
    "tokenizer = ToktokTokenizer()\n",
    "nltk.download('punkt')\n",
    "nltk.download('stopwords')\n",
    "nltk.download('wordnet')\n",
    "\n",
    "# Other\n",
    "import gzip \n",
    "from datetime import datetime"
   ]
  },
  {
   "cell_type": "markdown",
   "metadata": {},
   "source": [
    "# Load the data"
   ]
  },
  {
   "cell_type": "code",
   "execution_count": 4,
   "metadata": {},
   "outputs": [],
   "source": [
    "def parse(path):\n",
    "    g = gzip.open(path, 'rb')\n",
    "    for l in g:\n",
    "        yield eval(l)\n",
    "\n",
    "def getDF(path):\n",
    "    i = 0\n",
    "    df = {}\n",
    "    for d in parse(path):\n",
    "        df[i] = d\n",
    "        i += 1\n",
    "    return pd.DataFrame.from_dict(df, orient='index')"
   ]
  },
  {
   "cell_type": "code",
   "execution_count": 5,
   "metadata": {},
   "outputs": [],
   "source": [
    "df_reviews = getDF('../Data/Raw Data/reviews_Electronics_5.json.gz')"
   ]
  },
  {
   "cell_type": "code",
   "execution_count": 7,
   "metadata": {},
   "outputs": [
    {
     "data": {
      "text/plain": [
       "(1689188, 9)"
      ]
     },
     "execution_count": 7,
     "metadata": {},
     "output_type": "execute_result"
    }
   ],
   "source": [
    "df_reviews.shape"
   ]
  },
  {
   "cell_type": "code",
   "execution_count": 8,
   "metadata": {},
   "outputs": [
    {
     "data": {
      "text/html": [
       "<div>\n",
       "<style scoped>\n",
       "    .dataframe tbody tr th:only-of-type {\n",
       "        vertical-align: middle;\n",
       "    }\n",
       "\n",
       "    .dataframe tbody tr th {\n",
       "        vertical-align: top;\n",
       "    }\n",
       "\n",
       "    .dataframe thead th {\n",
       "        text-align: right;\n",
       "    }\n",
       "</style>\n",
       "<table border=\"1\" class=\"dataframe\">\n",
       "  <thead>\n",
       "    <tr style=\"text-align: right;\">\n",
       "      <th></th>\n",
       "      <th>reviewerID</th>\n",
       "      <th>asin</th>\n",
       "      <th>reviewerName</th>\n",
       "      <th>helpful</th>\n",
       "      <th>reviewText</th>\n",
       "      <th>overall</th>\n",
       "      <th>summary</th>\n",
       "      <th>unixReviewTime</th>\n",
       "      <th>reviewTime</th>\n",
       "    </tr>\n",
       "  </thead>\n",
       "  <tbody>\n",
       "    <tr>\n",
       "      <th>0</th>\n",
       "      <td>AO94DHGC771SJ</td>\n",
       "      <td>0528881469</td>\n",
       "      <td>amazdnu</td>\n",
       "      <td>[0, 0]</td>\n",
       "      <td>We got this GPS for my husband who is an (OTR)...</td>\n",
       "      <td>5.0</td>\n",
       "      <td>Gotta have GPS!</td>\n",
       "      <td>1370131200</td>\n",
       "      <td>06 2, 2013</td>\n",
       "    </tr>\n",
       "    <tr>\n",
       "      <th>1</th>\n",
       "      <td>AMO214LNFCEI4</td>\n",
       "      <td>0528881469</td>\n",
       "      <td>Amazon Customer</td>\n",
       "      <td>[12, 15]</td>\n",
       "      <td>I'm a professional OTR truck driver, and I bou...</td>\n",
       "      <td>1.0</td>\n",
       "      <td>Very Disappointed</td>\n",
       "      <td>1290643200</td>\n",
       "      <td>11 25, 2010</td>\n",
       "    </tr>\n",
       "    <tr>\n",
       "      <th>2</th>\n",
       "      <td>A3N7T0DY83Y4IG</td>\n",
       "      <td>0528881469</td>\n",
       "      <td>C. A. Freeman</td>\n",
       "      <td>[43, 45]</td>\n",
       "      <td>Well, what can I say.  I've had this unit in m...</td>\n",
       "      <td>3.0</td>\n",
       "      <td>1st impression</td>\n",
       "      <td>1283990400</td>\n",
       "      <td>09 9, 2010</td>\n",
       "    </tr>\n",
       "  </tbody>\n",
       "</table>\n",
       "</div>"
      ],
      "text/plain": [
       "       reviewerID        asin     reviewerName   helpful  \\\n",
       "0   AO94DHGC771SJ  0528881469          amazdnu    [0, 0]   \n",
       "1   AMO214LNFCEI4  0528881469  Amazon Customer  [12, 15]   \n",
       "2  A3N7T0DY83Y4IG  0528881469    C. A. Freeman  [43, 45]   \n",
       "\n",
       "                                          reviewText  overall  \\\n",
       "0  We got this GPS for my husband who is an (OTR)...      5.0   \n",
       "1  I'm a professional OTR truck driver, and I bou...      1.0   \n",
       "2  Well, what can I say.  I've had this unit in m...      3.0   \n",
       "\n",
       "             summary  unixReviewTime   reviewTime  \n",
       "0    Gotta have GPS!      1370131200   06 2, 2013  \n",
       "1  Very Disappointed      1290643200  11 25, 2010  \n",
       "2     1st impression      1283990400   09 9, 2010  "
      ]
     },
     "execution_count": 8,
     "metadata": {},
     "output_type": "execute_result"
    }
   ],
   "source": [
    "df_reviews.head(3)"
   ]
  },
  {
   "cell_type": "code",
   "execution_count": 9,
   "metadata": {},
   "outputs": [],
   "source": [
    "df_metadata = getDF('../Data/Raw Data/meta_Electronics.json.gz')"
   ]
  },
  {
   "cell_type": "code",
   "execution_count": 10,
   "metadata": {},
   "outputs": [
    {
     "data": {
      "text/plain": [
       "(786445, 18)"
      ]
     },
     "execution_count": 10,
     "metadata": {},
     "output_type": "execute_result"
    }
   ],
   "source": [
    "df_metadata.shape"
   ]
  },
  {
   "cell_type": "code",
   "execution_count": 11,
   "metadata": {},
   "outputs": [
    {
     "data": {
      "text/html": [
       "<div>\n",
       "<style scoped>\n",
       "    .dataframe tbody tr th:only-of-type {\n",
       "        vertical-align: middle;\n",
       "    }\n",
       "\n",
       "    .dataframe tbody tr th {\n",
       "        vertical-align: top;\n",
       "    }\n",
       "\n",
       "    .dataframe thead th {\n",
       "        text-align: right;\n",
       "    }\n",
       "</style>\n",
       "<table border=\"1\" class=\"dataframe\">\n",
       "  <thead>\n",
       "    <tr style=\"text-align: right;\">\n",
       "      <th></th>\n",
       "      <th>category</th>\n",
       "      <th>tech1</th>\n",
       "      <th>description</th>\n",
       "      <th>fit</th>\n",
       "      <th>title</th>\n",
       "      <th>also_buy</th>\n",
       "      <th>image</th>\n",
       "      <th>tech2</th>\n",
       "      <th>brand</th>\n",
       "      <th>feature</th>\n",
       "      <th>rank</th>\n",
       "      <th>also_view</th>\n",
       "      <th>main_cat</th>\n",
       "      <th>similar_item</th>\n",
       "      <th>date</th>\n",
       "      <th>price</th>\n",
       "      <th>asin</th>\n",
       "      <th>details</th>\n",
       "    </tr>\n",
       "  </thead>\n",
       "  <tbody>\n",
       "    <tr>\n",
       "      <th>0</th>\n",
       "      <td>[Electronics, Camera &amp;amp; Photo, Video Survei...</td>\n",
       "      <td></td>\n",
       "      <td>[The following camera brands and models have b...</td>\n",
       "      <td></td>\n",
       "      <td>Genuine Geovision 1 Channel 3rd Party NVR IP S...</td>\n",
       "      <td>[]</td>\n",
       "      <td>[https://images-na.ssl-images-amazon.com/image...</td>\n",
       "      <td></td>\n",
       "      <td>GeoVision</td>\n",
       "      <td>[Genuine Geovision 1 Channel NVR IP Software, ...</td>\n",
       "      <td>[&gt;#3,092 in Tools &amp;amp; Home Improvement &amp;gt; ...</td>\n",
       "      <td>[]</td>\n",
       "      <td>Camera &amp;amp; Photo</td>\n",
       "      <td></td>\n",
       "      <td>January 28, 2014</td>\n",
       "      <td>$65.00</td>\n",
       "      <td>0011300000</td>\n",
       "      <td>NaN</td>\n",
       "    </tr>\n",
       "    <tr>\n",
       "      <th>1</th>\n",
       "      <td>[Electronics, Camera &amp;amp; Photo]</td>\n",
       "      <td></td>\n",
       "      <td>[This second edition of the Handbook of Astron...</td>\n",
       "      <td></td>\n",
       "      <td>Books \"Handbook of Astronomical Image Processi...</td>\n",
       "      <td>[0999470906]</td>\n",
       "      <td>[https://images-na.ssl-images-amazon.com/image...</td>\n",
       "      <td></td>\n",
       "      <td>33 Books Co.</td>\n",
       "      <td>[Detailed chapters cover these fundamental top...</td>\n",
       "      <td>[&gt;#55,933 in Camera &amp;amp; Photo (See Top 100 i...</td>\n",
       "      <td>[0943396670, 1138055360, 0999470906]</td>\n",
       "      <td>Camera &amp;amp; Photo</td>\n",
       "      <td></td>\n",
       "      <td>June 17, 2003</td>\n",
       "      <td></td>\n",
       "      <td>0043396828</td>\n",
       "      <td>NaN</td>\n",
       "    </tr>\n",
       "    <tr>\n",
       "      <th>2</th>\n",
       "      <td>[Electronics, eBook Readers &amp;amp; Accessories,...</td>\n",
       "      <td></td>\n",
       "      <td>[A zesty tale. (Publishers Weekly)&lt;br /&gt;&lt;br /&gt;...</td>\n",
       "      <td></td>\n",
       "      <td>One Hot Summer</td>\n",
       "      <td>[0425167798, 039914157X]</td>\n",
       "      <td>[]</td>\n",
       "      <td></td>\n",
       "      <td>Visit Amazon's Carolina Garcia Aguilera Page</td>\n",
       "      <td>[]</td>\n",
       "      <td>3,105,177 in Books (</td>\n",
       "      <td>[]</td>\n",
       "      <td>Books</td>\n",
       "      <td></td>\n",
       "      <td></td>\n",
       "      <td>$11.49</td>\n",
       "      <td>0060009810</td>\n",
       "      <td>NaN</td>\n",
       "    </tr>\n",
       "  </tbody>\n",
       "</table>\n",
       "</div>"
      ],
      "text/plain": [
       "                                            category tech1  \\\n",
       "0  [Electronics, Camera &amp; Photo, Video Survei...         \n",
       "1                  [Electronics, Camera &amp; Photo]         \n",
       "2  [Electronics, eBook Readers &amp; Accessories,...         \n",
       "\n",
       "                                         description fit  \\\n",
       "0  [The following camera brands and models have b...       \n",
       "1  [This second edition of the Handbook of Astron...       \n",
       "2  [A zesty tale. (Publishers Weekly)<br /><br />...       \n",
       "\n",
       "                                               title  \\\n",
       "0  Genuine Geovision 1 Channel 3rd Party NVR IP S...   \n",
       "1  Books \"Handbook of Astronomical Image Processi...   \n",
       "2                                     One Hot Summer   \n",
       "\n",
       "                   also_buy  \\\n",
       "0                        []   \n",
       "1              [0999470906]   \n",
       "2  [0425167798, 039914157X]   \n",
       "\n",
       "                                               image tech2  \\\n",
       "0  [https://images-na.ssl-images-amazon.com/image...         \n",
       "1  [https://images-na.ssl-images-amazon.com/image...         \n",
       "2                                                 []         \n",
       "\n",
       "                                          brand  \\\n",
       "0                                     GeoVision   \n",
       "1                                  33 Books Co.   \n",
       "2  Visit Amazon's Carolina Garcia Aguilera Page   \n",
       "\n",
       "                                             feature  \\\n",
       "0  [Genuine Geovision 1 Channel NVR IP Software, ...   \n",
       "1  [Detailed chapters cover these fundamental top...   \n",
       "2                                                 []   \n",
       "\n",
       "                                                rank  \\\n",
       "0  [>#3,092 in Tools &amp; Home Improvement &gt; ...   \n",
       "1  [>#55,933 in Camera &amp; Photo (See Top 100 i...   \n",
       "2                               3,105,177 in Books (   \n",
       "\n",
       "                              also_view            main_cat similar_item  \\\n",
       "0                                    []  Camera &amp; Photo                \n",
       "1  [0943396670, 1138055360, 0999470906]  Camera &amp; Photo                \n",
       "2                                    []               Books                \n",
       "\n",
       "               date   price        asin details  \n",
       "0  January 28, 2014  $65.00  0011300000     NaN  \n",
       "1     June 17, 2003          0043396828     NaN  \n",
       "2                    $11.49  0060009810     NaN  "
      ]
     },
     "execution_count": 11,
     "metadata": {},
     "output_type": "execute_result"
    }
   ],
   "source": [
    "df_metadata.head(3)"
   ]
  },
  {
   "cell_type": "code",
   "execution_count": 12,
   "metadata": {},
   "outputs": [],
   "source": [
    "# Merge the 2 files to have all the info in one file \n",
    "df_metaReview = pd.merge(df_reviews, df_metadata, how='left' , on='asin' )"
   ]
  },
  {
   "cell_type": "code",
   "execution_count": 13,
   "metadata": {},
   "outputs": [
    {
     "data": {
      "text/plain": [
       "(1785863, 26)"
      ]
     },
     "execution_count": 13,
     "metadata": {},
     "output_type": "execute_result"
    }
   ],
   "source": [
    "df_metaReview.shape"
   ]
  },
  {
   "cell_type": "code",
   "execution_count": 14,
   "metadata": {},
   "outputs": [],
   "source": [
    "# Remove the unnecessary fields \n",
    "df_metaReview.drop(['reviewerName', 'unixReviewTime','fit','also_buy', 'image', \n",
    "                 'tech1', 'tech2', 'also_view', 'similar_item', 'details', 'date'], axis=1, inplace= True)"
   ]
  },
  {
   "cell_type": "code",
   "execution_count": 15,
   "metadata": {},
   "outputs": [],
   "source": [
    "# Check to see the Null values \n",
    "df_metaReview = df_metaReview.replace('', np.nan)"
   ]
  },
  {
   "cell_type": "code",
   "execution_count": 16,
   "metadata": {},
   "outputs": [
    {
     "data": {
      "text/plain": [
       "reviewerID           0\n",
       "asin                 0\n",
       "helpful              0\n",
       "reviewText        1116\n",
       "overall              0\n",
       "summary              0\n",
       "reviewTime           0\n",
       "category        657307\n",
       "description     657307\n",
       "title           657307\n",
       "brand           658403\n",
       "feature         657307\n",
       "rank            657307\n",
       "main_cat        657726\n",
       "price          1170381\n",
       "dtype: int64"
      ]
     },
     "execution_count": 16,
     "metadata": {},
     "output_type": "execute_result"
    }
   ],
   "source": [
    "df_metaReview.isna().sum()"
   ]
  },
  {
   "cell_type": "code",
   "execution_count": 17,
   "metadata": {},
   "outputs": [],
   "source": [
    "# Remove the Null values\n",
    "df_metaReview.dropna(subset=['category'], inplace= True)"
   ]
  },
  {
   "cell_type": "code",
   "execution_count": 18,
   "metadata": {},
   "outputs": [
    {
     "data": {
      "text/plain": [
       "reviewerID          0\n",
       "asin                0\n",
       "helpful             0\n",
       "reviewText        685\n",
       "overall             0\n",
       "summary             0\n",
       "reviewTime          0\n",
       "category            0\n",
       "description         0\n",
       "title               0\n",
       "brand            1096\n",
       "feature             0\n",
       "rank                0\n",
       "main_cat          419\n",
       "price          513074\n",
       "dtype: int64"
      ]
     },
     "execution_count": 18,
     "metadata": {},
     "output_type": "execute_result"
    }
   ],
   "source": [
    "df_metaReview.isna().sum()"
   ]
  },
  {
   "cell_type": "code",
   "execution_count": 21,
   "metadata": {},
   "outputs": [
    {
     "data": {
      "text/plain": [
       "(1128556, 15)"
      ]
     },
     "execution_count": 21,
     "metadata": {},
     "output_type": "execute_result"
    }
   ],
   "source": [
    "df_metaReview.shape"
   ]
  },
  {
   "cell_type": "code",
   "execution_count": 23,
   "metadata": {},
   "outputs": [
    {
     "data": {
      "text/plain": [
       "All Electronics              327689\n",
       "Computers                    245776\n",
       "Home Audio & Theater         199195\n",
       "Camera & Photo               177653\n",
       "Cell Phones & Accessories     49215\n",
       "Home Audio &amp; Theater      31767\n",
       "Camera &amp; Photo            25133\n",
       "Amazon Devices                18365\n",
       "Car Electronics               17553\n",
       "Musical Instruments            6424\n",
       "Name: main_cat, dtype: int64"
      ]
     },
     "execution_count": 23,
     "metadata": {},
     "output_type": "execute_result"
    }
   ],
   "source": [
    "# Inspect the data\n",
    "df_metaReview['main_cat'].value_counts().head(10)"
   ]
  },
  {
   "cell_type": "code",
   "execution_count": 25,
   "metadata": {
    "scrolled": true
   },
   "outputs": [
    {
     "data": {
      "text/plain": [
       "[Electronics, Computers & Accessories, Tablet Accessories, Bags, Cases & Sleeves, Cases]                                27629\n",
       "[Electronics, Headphones, Earbud Headphones]                                                                            26310\n",
       "[Electronics, Camera & Photo, Digital Cameras, Point & Shoot Digital Cameras]                                           19019\n",
       "[Electronics, Computers & Accessories, Networking Products, Routers]                                                    17628\n",
       "[Electronics, Computers & Accessories, Computer Accessories & Peripherals, Keyboards, Mice & Accessories, Mice]         17419\n",
       "[Electronics, Headphones, Over-Ear Headphones]                                                                          17259\n",
       "[Electronics, Accessories & Supplies, Audio & Video Accessories, Cables & Interconnects, Video Cables, HDMI Cables]     17225\n",
       "[Electronics, Camera & Photo, Lenses, Camera Lenses, SLR Camera Lenses]                                                 14719\n",
       "[Electronics, Computers & Accessories, Computer Accessories & Peripherals, Keyboards, Mice & Accessories, Keyboards]    14632\n",
       "[Electronics, Computers & Accessories, Data Storage, External Hard Drives]                                              13588\n",
       "Name: category, dtype: int64"
      ]
     },
     "execution_count": 25,
     "metadata": {},
     "output_type": "execute_result"
    }
   ],
   "source": [
    "df_metaReview['category'].value_counts().head(10)"
   ]
  },
  {
   "cell_type": "code",
   "execution_count": 55,
   "metadata": {},
   "outputs": [
    {
     "data": {
      "text/html": [
       "<div>\n",
       "<style scoped>\n",
       "    .dataframe tbody tr th:only-of-type {\n",
       "        vertical-align: middle;\n",
       "    }\n",
       "\n",
       "    .dataframe tbody tr th {\n",
       "        vertical-align: top;\n",
       "    }\n",
       "\n",
       "    .dataframe thead th {\n",
       "        text-align: right;\n",
       "    }\n",
       "</style>\n",
       "<table border=\"1\" class=\"dataframe\">\n",
       "  <thead>\n",
       "    <tr style=\"text-align: right;\">\n",
       "      <th></th>\n",
       "      <th>reviewerID</th>\n",
       "      <th>asin</th>\n",
       "      <th>helpful</th>\n",
       "      <th>reviewText</th>\n",
       "      <th>overall</th>\n",
       "      <th>summary</th>\n",
       "      <th>reviewTime</th>\n",
       "      <th>category</th>\n",
       "      <th>description</th>\n",
       "      <th>title</th>\n",
       "      <th>brand</th>\n",
       "      <th>feature</th>\n",
       "      <th>rank</th>\n",
       "      <th>main_cat</th>\n",
       "      <th>price</th>\n",
       "    </tr>\n",
       "  </thead>\n",
       "  <tbody>\n",
       "    <tr>\n",
       "      <th>1140</th>\n",
       "      <td>A22KW5YWAI5YDO</td>\n",
       "      <td>B000001OMI</td>\n",
       "      <td>[0, 0]</td>\n",
       "      <td>Good  headphones.  I like (very much) that the...</td>\n",
       "      <td>4.0</td>\n",
       "      <td>Light, one wire, headphones...</td>\n",
       "      <td>11 24, 2013</td>\n",
       "      <td>[Electronics, Headphones, On-Ear Headphones]</td>\n",
       "      <td>[The stylish HP200S Stereo Line silver headpho...</td>\n",
       "      <td>Maxell 190318 Lightweight Adjustable Open Air ...</td>\n",
       "      <td>Maxell</td>\n",
       "      <td>[Lightweight, Open-air Headphones, Ideal For A...</td>\n",
       "      <td>[&gt;#53,588 in Cell Phones &amp; Accessories (See To...</td>\n",
       "      <td>Home Audio &amp; Theater</td>\n",
       "      <td>$6.55</td>\n",
       "    </tr>\n",
       "    <tr>\n",
       "      <th>1141</th>\n",
       "      <td>A2FUMBORC5EMXG</td>\n",
       "      <td>B000001OMI</td>\n",
       "      <td>[0, 0]</td>\n",
       "      <td>My job involves wearing earphones ALL THE TIME...</td>\n",
       "      <td>5.0</td>\n",
       "      <td>Love earphones that aren't too tight</td>\n",
       "      <td>03 10, 2014</td>\n",
       "      <td>[Electronics, Headphones, On-Ear Headphones]</td>\n",
       "      <td>[The stylish HP200S Stereo Line silver headpho...</td>\n",
       "      <td>Maxell 190318 Lightweight Adjustable Open Air ...</td>\n",
       "      <td>Maxell</td>\n",
       "      <td>[Lightweight, Open-air Headphones, Ideal For A...</td>\n",
       "      <td>[&gt;#53,588 in Cell Phones &amp; Accessories (See To...</td>\n",
       "      <td>Home Audio &amp; Theater</td>\n",
       "      <td>$6.55</td>\n",
       "    </tr>\n",
       "    <tr>\n",
       "      <th>1142</th>\n",
       "      <td>A680RUE1FDO8B</td>\n",
       "      <td>B000001OMI</td>\n",
       "      <td>[4, 5]</td>\n",
       "      <td>Obviously these headphones are not for the aud...</td>\n",
       "      <td>5.0</td>\n",
       "      <td>Excellent day-to-day headphones</td>\n",
       "      <td>11 27, 2008</td>\n",
       "      <td>[Electronics, Headphones, On-Ear Headphones]</td>\n",
       "      <td>[The stylish HP200S Stereo Line silver headpho...</td>\n",
       "      <td>Maxell 190318 Lightweight Adjustable Open Air ...</td>\n",
       "      <td>Maxell</td>\n",
       "      <td>[Lightweight, Open-air Headphones, Ideal For A...</td>\n",
       "      <td>[&gt;#53,588 in Cell Phones &amp; Accessories (See To...</td>\n",
       "      <td>Home Audio &amp; Theater</td>\n",
       "      <td>$6.55</td>\n",
       "    </tr>\n",
       "    <tr>\n",
       "      <th>1143</th>\n",
       "      <td>A37NP1T8KCEMOW</td>\n",
       "      <td>B000001OMI</td>\n",
       "      <td>[0, 0]</td>\n",
       "      <td>These headphones are perfect for the walking i...</td>\n",
       "      <td>4.0</td>\n",
       "      <td>Simple.</td>\n",
       "      <td>12 15, 2013</td>\n",
       "      <td>[Electronics, Headphones, On-Ear Headphones]</td>\n",
       "      <td>[The stylish HP200S Stereo Line silver headpho...</td>\n",
       "      <td>Maxell 190318 Lightweight Adjustable Open Air ...</td>\n",
       "      <td>Maxell</td>\n",
       "      <td>[Lightweight, Open-air Headphones, Ideal For A...</td>\n",
       "      <td>[&gt;#53,588 in Cell Phones &amp; Accessories (See To...</td>\n",
       "      <td>Home Audio &amp; Theater</td>\n",
       "      <td>$6.55</td>\n",
       "    </tr>\n",
       "    <tr>\n",
       "      <th>1144</th>\n",
       "      <td>A28OZBLQKKYGOR</td>\n",
       "      <td>B000001OMI</td>\n",
       "      <td>[0, 0]</td>\n",
       "      <td>Another good buy.  Again, very affordable, and...</td>\n",
       "      <td>4.0</td>\n",
       "      <td>Worth the inexpensive price.</td>\n",
       "      <td>03 27, 2014</td>\n",
       "      <td>[Electronics, Headphones, On-Ear Headphones]</td>\n",
       "      <td>[The stylish HP200S Stereo Line silver headpho...</td>\n",
       "      <td>Maxell 190318 Lightweight Adjustable Open Air ...</td>\n",
       "      <td>Maxell</td>\n",
       "      <td>[Lightweight, Open-air Headphones, Ideal For A...</td>\n",
       "      <td>[&gt;#53,588 in Cell Phones &amp; Accessories (See To...</td>\n",
       "      <td>Home Audio &amp; Theater</td>\n",
       "      <td>$6.55</td>\n",
       "    </tr>\n",
       "  </tbody>\n",
       "</table>\n",
       "</div>"
      ],
      "text/plain": [
       "          reviewerID        asin helpful  \\\n",
       "1140  A22KW5YWAI5YDO  B000001OMI  [0, 0]   \n",
       "1141  A2FUMBORC5EMXG  B000001OMI  [0, 0]   \n",
       "1142   A680RUE1FDO8B  B000001OMI  [4, 5]   \n",
       "1143  A37NP1T8KCEMOW  B000001OMI  [0, 0]   \n",
       "1144  A28OZBLQKKYGOR  B000001OMI  [0, 0]   \n",
       "\n",
       "                                             reviewText  overall  \\\n",
       "1140  Good  headphones.  I like (very much) that the...      4.0   \n",
       "1141  My job involves wearing earphones ALL THE TIME...      5.0   \n",
       "1142  Obviously these headphones are not for the aud...      5.0   \n",
       "1143  These headphones are perfect for the walking i...      4.0   \n",
       "1144  Another good buy.  Again, very affordable, and...      4.0   \n",
       "\n",
       "                                   summary   reviewTime  \\\n",
       "1140        Light, one wire, headphones...  11 24, 2013   \n",
       "1141  Love earphones that aren't too tight  03 10, 2014   \n",
       "1142       Excellent day-to-day headphones  11 27, 2008   \n",
       "1143                               Simple.  12 15, 2013   \n",
       "1144          Worth the inexpensive price.  03 27, 2014   \n",
       "\n",
       "                                          category  \\\n",
       "1140  [Electronics, Headphones, On-Ear Headphones]   \n",
       "1141  [Electronics, Headphones, On-Ear Headphones]   \n",
       "1142  [Electronics, Headphones, On-Ear Headphones]   \n",
       "1143  [Electronics, Headphones, On-Ear Headphones]   \n",
       "1144  [Electronics, Headphones, On-Ear Headphones]   \n",
       "\n",
       "                                            description  \\\n",
       "1140  [The stylish HP200S Stereo Line silver headpho...   \n",
       "1141  [The stylish HP200S Stereo Line silver headpho...   \n",
       "1142  [The stylish HP200S Stereo Line silver headpho...   \n",
       "1143  [The stylish HP200S Stereo Line silver headpho...   \n",
       "1144  [The stylish HP200S Stereo Line silver headpho...   \n",
       "\n",
       "                                                  title   brand  \\\n",
       "1140  Maxell 190318 Lightweight Adjustable Open Air ...  Maxell   \n",
       "1141  Maxell 190318 Lightweight Adjustable Open Air ...  Maxell   \n",
       "1142  Maxell 190318 Lightweight Adjustable Open Air ...  Maxell   \n",
       "1143  Maxell 190318 Lightweight Adjustable Open Air ...  Maxell   \n",
       "1144  Maxell 190318 Lightweight Adjustable Open Air ...  Maxell   \n",
       "\n",
       "                                                feature  \\\n",
       "1140  [Lightweight, Open-air Headphones, Ideal For A...   \n",
       "1141  [Lightweight, Open-air Headphones, Ideal For A...   \n",
       "1142  [Lightweight, Open-air Headphones, Ideal For A...   \n",
       "1143  [Lightweight, Open-air Headphones, Ideal For A...   \n",
       "1144  [Lightweight, Open-air Headphones, Ideal For A...   \n",
       "\n",
       "                                                   rank              main_cat  \\\n",
       "1140  [>#53,588 in Cell Phones & Accessories (See To...  Home Audio & Theater   \n",
       "1141  [>#53,588 in Cell Phones & Accessories (See To...  Home Audio & Theater   \n",
       "1142  [>#53,588 in Cell Phones & Accessories (See To...  Home Audio & Theater   \n",
       "1143  [>#53,588 in Cell Phones & Accessories (See To...  Home Audio & Theater   \n",
       "1144  [>#53,588 in Cell Phones & Accessories (See To...  Home Audio & Theater   \n",
       "\n",
       "      price  \n",
       "1140  $6.55  \n",
       "1141  $6.55  \n",
       "1142  $6.55  \n",
       "1143  $6.55  \n",
       "1144  $6.55  "
      ]
     },
     "execution_count": 55,
     "metadata": {},
     "output_type": "execute_result"
    }
   ],
   "source": [
    "# Extract the headphone products only\n",
    "df = df_metaReview[df_metaReview[\"title\"].str.contains(\"headphones|headphone|Headphones|Headphone\")]\n",
    "\n",
    "df = df[~df['review_summary'].isna()]\n",
    "df.head()"
   ]
  },
  {
   "cell_type": "code",
   "execution_count": 56,
   "metadata": {},
   "outputs": [
    {
     "name": "stdout",
     "output_type": "stream",
     "text": [
      "<class 'pandas.core.frame.DataFrame'>\n",
      "Int64Index: 58295 entries, 1140 to 1785367\n",
      "Data columns (total 15 columns):\n",
      " #   Column       Non-Null Count  Dtype  \n",
      "---  ------       --------------  -----  \n",
      " 0   reviewerID   58295 non-null  object \n",
      " 1   asin         58295 non-null  object \n",
      " 2   helpful      58295 non-null  object \n",
      " 3   reviewText   58277 non-null  object \n",
      " 4   overall      58295 non-null  float64\n",
      " 5   summary      58295 non-null  object \n",
      " 6   reviewTime   58295 non-null  object \n",
      " 7   category     58295 non-null  object \n",
      " 8   description  58295 non-null  object \n",
      " 9   title        58295 non-null  object \n",
      " 10  brand        58267 non-null  object \n",
      " 11  feature      58295 non-null  object \n",
      " 12  rank         58295 non-null  object \n",
      " 13  main_cat     58295 non-null  object \n",
      " 14  price        32411 non-null  object \n",
      "dtypes: float64(1), object(14)\n",
      "memory usage: 7.1+ MB\n"
     ]
    }
   ],
   "source": [
    "df.info()"
   ]
  },
  {
   "cell_type": "code",
   "execution_count": 57,
   "metadata": {},
   "outputs": [],
   "source": [
    "# Create a new column with combining 'reviewText' and 'summary'\n",
    "df['review_summary'] = df['reviewText'] + df['summary']\n",
    "df.drop([ 'reviewText', 'summary'], axis=1, inplace= True)"
   ]
  },
  {
   "cell_type": "code",
   "execution_count": 46,
   "metadata": {},
   "outputs": [
    {
     "data": {
      "text/html": [
       "<div>\n",
       "<style scoped>\n",
       "    .dataframe tbody tr th:only-of-type {\n",
       "        vertical-align: middle;\n",
       "    }\n",
       "\n",
       "    .dataframe tbody tr th {\n",
       "        vertical-align: top;\n",
       "    }\n",
       "\n",
       "    .dataframe thead th {\n",
       "        text-align: right;\n",
       "    }\n",
       "</style>\n",
       "<table border=\"1\" class=\"dataframe\">\n",
       "  <thead>\n",
       "    <tr style=\"text-align: right;\">\n",
       "      <th></th>\n",
       "      <th>reviewerID</th>\n",
       "      <th>asin</th>\n",
       "      <th>helpful</th>\n",
       "      <th>overall</th>\n",
       "      <th>reviewTime</th>\n",
       "      <th>category</th>\n",
       "      <th>description</th>\n",
       "      <th>title</th>\n",
       "      <th>brand</th>\n",
       "      <th>feature</th>\n",
       "      <th>rank</th>\n",
       "      <th>main_cat</th>\n",
       "      <th>price</th>\n",
       "      <th>review_summary</th>\n",
       "    </tr>\n",
       "  </thead>\n",
       "  <tbody>\n",
       "    <tr>\n",
       "      <th>1785365</th>\n",
       "      <td>A1ZEUQ2D21GAQD</td>\n",
       "      <td>B00KD0LVXM</td>\n",
       "      <td>[0, 0]</td>\n",
       "      <td>4.0</td>\n",
       "      <td>06 28, 2014</td>\n",
       "      <td>[Electronics, Portable Audio &amp; Video, MP3 &amp; MP...</td>\n",
       "      <td>[Alpatronix AX310 Ultra Portable Mini Wireless...</td>\n",
       "      <td>Samnyte Bluetooth Headset, V4.1 Hands Free Car...</td>\n",
       "      <td>Alpatronix</td>\n",
       "      <td>[Latest Bluetooth 4.0 technology for quality w...</td>\n",
       "      <td>[&gt;#58,209 in Electronics &gt; Portable Audio &amp; Vi...</td>\n",
       "      <td>Home Audio &amp; Theater</td>\n",
       "      <td>NaN</td>\n",
       "      <td>Connection wise, I've had no issues connecting...</td>\n",
       "    </tr>\n",
       "    <tr>\n",
       "      <th>1785366</th>\n",
       "      <td>A31FL6ULIB78MI</td>\n",
       "      <td>B00KD0LVXM</td>\n",
       "      <td>[2, 2]</td>\n",
       "      <td>5.0</td>\n",
       "      <td>06 14, 2014</td>\n",
       "      <td>[Electronics, Portable Audio &amp; Video, MP3 &amp; MP...</td>\n",
       "      <td>[Alpatronix AX310 Ultra Portable Mini Wireless...</td>\n",
       "      <td>Samnyte Bluetooth Headset, V4.1 Hands Free Car...</td>\n",
       "      <td>Alpatronix</td>\n",
       "      <td>[Latest Bluetooth 4.0 technology for quality w...</td>\n",
       "      <td>[&gt;#58,209 in Electronics &gt; Portable Audio &amp; Vi...</td>\n",
       "      <td>Home Audio &amp; Theater</td>\n",
       "      <td>NaN</td>\n",
       "      <td>I wasn't expecting too much from such a small ...</td>\n",
       "    </tr>\n",
       "    <tr>\n",
       "      <th>1785367</th>\n",
       "      <td>A3EKGN43O8XDWV</td>\n",
       "      <td>B00KD0LVXM</td>\n",
       "      <td>[0, 0]</td>\n",
       "      <td>4.0</td>\n",
       "      <td>06 20, 2014</td>\n",
       "      <td>[Electronics, Portable Audio &amp; Video, MP3 &amp; MP...</td>\n",
       "      <td>[Alpatronix AX310 Ultra Portable Mini Wireless...</td>\n",
       "      <td>Samnyte Bluetooth Headset, V4.1 Hands Free Car...</td>\n",
       "      <td>Alpatronix</td>\n",
       "      <td>[Latest Bluetooth 4.0 technology for quality w...</td>\n",
       "      <td>[&gt;#58,209 in Electronics &gt; Portable Audio &amp; Vi...</td>\n",
       "      <td>Home Audio &amp; Theater</td>\n",
       "      <td>NaN</td>\n",
       "      <td>Good quality for the price.  We were surprised...</td>\n",
       "    </tr>\n",
       "  </tbody>\n",
       "</table>\n",
       "</div>"
      ],
      "text/plain": [
       "             reviewerID        asin helpful  overall   reviewTime  \\\n",
       "1785365  A1ZEUQ2D21GAQD  B00KD0LVXM  [0, 0]      4.0  06 28, 2014   \n",
       "1785366  A31FL6ULIB78MI  B00KD0LVXM  [2, 2]      5.0  06 14, 2014   \n",
       "1785367  A3EKGN43O8XDWV  B00KD0LVXM  [0, 0]      4.0  06 20, 2014   \n",
       "\n",
       "                                                  category  \\\n",
       "1785365  [Electronics, Portable Audio & Video, MP3 & MP...   \n",
       "1785366  [Electronics, Portable Audio & Video, MP3 & MP...   \n",
       "1785367  [Electronics, Portable Audio & Video, MP3 & MP...   \n",
       "\n",
       "                                               description  \\\n",
       "1785365  [Alpatronix AX310 Ultra Portable Mini Wireless...   \n",
       "1785366  [Alpatronix AX310 Ultra Portable Mini Wireless...   \n",
       "1785367  [Alpatronix AX310 Ultra Portable Mini Wireless...   \n",
       "\n",
       "                                                     title       brand  \\\n",
       "1785365  Samnyte Bluetooth Headset, V4.1 Hands Free Car...  Alpatronix   \n",
       "1785366  Samnyte Bluetooth Headset, V4.1 Hands Free Car...  Alpatronix   \n",
       "1785367  Samnyte Bluetooth Headset, V4.1 Hands Free Car...  Alpatronix   \n",
       "\n",
       "                                                   feature  \\\n",
       "1785365  [Latest Bluetooth 4.0 technology for quality w...   \n",
       "1785366  [Latest Bluetooth 4.0 technology for quality w...   \n",
       "1785367  [Latest Bluetooth 4.0 technology for quality w...   \n",
       "\n",
       "                                                      rank  \\\n",
       "1785365  [>#58,209 in Electronics > Portable Audio & Vi...   \n",
       "1785366  [>#58,209 in Electronics > Portable Audio & Vi...   \n",
       "1785367  [>#58,209 in Electronics > Portable Audio & Vi...   \n",
       "\n",
       "                     main_cat price  \\\n",
       "1785365  Home Audio & Theater   NaN   \n",
       "1785366  Home Audio & Theater   NaN   \n",
       "1785367  Home Audio & Theater   NaN   \n",
       "\n",
       "                                            review_summary  \n",
       "1785365  Connection wise, I've had no issues connecting...  \n",
       "1785366  I wasn't expecting too much from such a small ...  \n",
       "1785367  Good quality for the price.  We were surprised...  "
      ]
     },
     "execution_count": 46,
     "metadata": {},
     "output_type": "execute_result"
    }
   ],
   "source": [
    "df.tail(3)"
   ]
  },
  {
   "cell_type": "code",
   "execution_count": 48,
   "metadata": {},
   "outputs": [
    {
     "data": {
      "text/plain": [
       "\"Good quality for the price.  We were surprised by the sound coming out of such a small speaker.  It obviously doesn't have as rich a sound as a larger, more expensive bluetooth speaker, but has decent quality and volume for it's size.  The bluetooth pairing works well and we haven't had any problems with static or break-ups in the bluetooth signal.  We took the speaker to the beach and kept our iPod in the backpack where it could stay safe and clean, and placed the speaker on our cooler.  It provided plenty of volume and it was nice that we could move the speaker around as needed, without interrupting the music.The speaker comes with a rechargeable battery and a USB cable, and my only complaint about the speaker is that there is no charge indicator light - nothing lights ups when it is plugged in, so you know it is charging.  Nor is there anything to indicate that the speaker is done charging.  If they could fix that one thing, this would be a perfect little bluetooth speaker.  Even without that, for the price I can't complain much.I haven't used the built-in microphone yet for phone-calls, but will update after I've used that feature -- next weekend I'm traveling and have a rental car, so I hope to use this as a speaker-phone for the car.Good small bluetooth speaker\""
      ]
     },
     "execution_count": 48,
     "metadata": {},
     "output_type": "execute_result"
    }
   ],
   "source": [
    "# Look at a sample review \n",
    "df['review_summary'][1785367]"
   ]
  },
  {
   "cell_type": "code",
   "execution_count": 58,
   "metadata": {},
   "outputs": [
    {
     "data": {
      "text/html": [
       "<div>\n",
       "<style scoped>\n",
       "    .dataframe tbody tr th:only-of-type {\n",
       "        vertical-align: middle;\n",
       "    }\n",
       "\n",
       "    .dataframe tbody tr th {\n",
       "        vertical-align: top;\n",
       "    }\n",
       "\n",
       "    .dataframe thead th {\n",
       "        text-align: right;\n",
       "    }\n",
       "</style>\n",
       "<table border=\"1\" class=\"dataframe\">\n",
       "  <thead>\n",
       "    <tr style=\"text-align: right;\">\n",
       "      <th></th>\n",
       "      <th>reviewerID</th>\n",
       "      <th>asin</th>\n",
       "      <th>helpful</th>\n",
       "      <th>overall</th>\n",
       "      <th>reviewTime</th>\n",
       "      <th>category</th>\n",
       "      <th>description</th>\n",
       "      <th>title</th>\n",
       "      <th>brand</th>\n",
       "      <th>feature</th>\n",
       "      <th>rank</th>\n",
       "      <th>main_cat</th>\n",
       "      <th>price</th>\n",
       "      <th>review_summary</th>\n",
       "      <th>rating_class</th>\n",
       "      <th>year</th>\n",
       "    </tr>\n",
       "  </thead>\n",
       "  <tbody>\n",
       "    <tr>\n",
       "      <th>1140</th>\n",
       "      <td>A22KW5YWAI5YDO</td>\n",
       "      <td>B000001OMI</td>\n",
       "      <td>[0, 0]</td>\n",
       "      <td>4.0</td>\n",
       "      <td>2013-11-24</td>\n",
       "      <td>[Electronics, Headphones, On-Ear Headphones]</td>\n",
       "      <td>[The stylish HP200S Stereo Line silver headpho...</td>\n",
       "      <td>Maxell 190318 Lightweight Adjustable Open Air ...</td>\n",
       "      <td>Maxell</td>\n",
       "      <td>[Lightweight, Open-air Headphones, Ideal For A...</td>\n",
       "      <td>[&gt;#53,588 in Cell Phones &amp; Accessories (See To...</td>\n",
       "      <td>Home Audio &amp; Theater</td>\n",
       "      <td>$6.55</td>\n",
       "      <td>Good  headphones.  I like (very much) that the...</td>\n",
       "      <td>good</td>\n",
       "      <td>2013</td>\n",
       "    </tr>\n",
       "    <tr>\n",
       "      <th>1141</th>\n",
       "      <td>A2FUMBORC5EMXG</td>\n",
       "      <td>B000001OMI</td>\n",
       "      <td>[0, 0]</td>\n",
       "      <td>5.0</td>\n",
       "      <td>2014-03-10</td>\n",
       "      <td>[Electronics, Headphones, On-Ear Headphones]</td>\n",
       "      <td>[The stylish HP200S Stereo Line silver headpho...</td>\n",
       "      <td>Maxell 190318 Lightweight Adjustable Open Air ...</td>\n",
       "      <td>Maxell</td>\n",
       "      <td>[Lightweight, Open-air Headphones, Ideal For A...</td>\n",
       "      <td>[&gt;#53,588 in Cell Phones &amp; Accessories (See To...</td>\n",
       "      <td>Home Audio &amp; Theater</td>\n",
       "      <td>$6.55</td>\n",
       "      <td>My job involves wearing earphones ALL THE TIME...</td>\n",
       "      <td>good</td>\n",
       "      <td>2014</td>\n",
       "    </tr>\n",
       "    <tr>\n",
       "      <th>1142</th>\n",
       "      <td>A680RUE1FDO8B</td>\n",
       "      <td>B000001OMI</td>\n",
       "      <td>[4, 5]</td>\n",
       "      <td>5.0</td>\n",
       "      <td>2008-11-27</td>\n",
       "      <td>[Electronics, Headphones, On-Ear Headphones]</td>\n",
       "      <td>[The stylish HP200S Stereo Line silver headpho...</td>\n",
       "      <td>Maxell 190318 Lightweight Adjustable Open Air ...</td>\n",
       "      <td>Maxell</td>\n",
       "      <td>[Lightweight, Open-air Headphones, Ideal For A...</td>\n",
       "      <td>[&gt;#53,588 in Cell Phones &amp; Accessories (See To...</td>\n",
       "      <td>Home Audio &amp; Theater</td>\n",
       "      <td>$6.55</td>\n",
       "      <td>Obviously these headphones are not for the aud...</td>\n",
       "      <td>good</td>\n",
       "      <td>2008</td>\n",
       "    </tr>\n",
       "    <tr>\n",
       "      <th>1143</th>\n",
       "      <td>A37NP1T8KCEMOW</td>\n",
       "      <td>B000001OMI</td>\n",
       "      <td>[0, 0]</td>\n",
       "      <td>4.0</td>\n",
       "      <td>2013-12-15</td>\n",
       "      <td>[Electronics, Headphones, On-Ear Headphones]</td>\n",
       "      <td>[The stylish HP200S Stereo Line silver headpho...</td>\n",
       "      <td>Maxell 190318 Lightweight Adjustable Open Air ...</td>\n",
       "      <td>Maxell</td>\n",
       "      <td>[Lightweight, Open-air Headphones, Ideal For A...</td>\n",
       "      <td>[&gt;#53,588 in Cell Phones &amp; Accessories (See To...</td>\n",
       "      <td>Home Audio &amp; Theater</td>\n",
       "      <td>$6.55</td>\n",
       "      <td>These headphones are perfect for the walking i...</td>\n",
       "      <td>good</td>\n",
       "      <td>2013</td>\n",
       "    </tr>\n",
       "    <tr>\n",
       "      <th>1144</th>\n",
       "      <td>A28OZBLQKKYGOR</td>\n",
       "      <td>B000001OMI</td>\n",
       "      <td>[0, 0]</td>\n",
       "      <td>4.0</td>\n",
       "      <td>2014-03-27</td>\n",
       "      <td>[Electronics, Headphones, On-Ear Headphones]</td>\n",
       "      <td>[The stylish HP200S Stereo Line silver headpho...</td>\n",
       "      <td>Maxell 190318 Lightweight Adjustable Open Air ...</td>\n",
       "      <td>Maxell</td>\n",
       "      <td>[Lightweight, Open-air Headphones, Ideal For A...</td>\n",
       "      <td>[&gt;#53,588 in Cell Phones &amp; Accessories (See To...</td>\n",
       "      <td>Home Audio &amp; Theater</td>\n",
       "      <td>$6.55</td>\n",
       "      <td>Another good buy.  Again, very affordable, and...</td>\n",
       "      <td>good</td>\n",
       "      <td>2014</td>\n",
       "    </tr>\n",
       "  </tbody>\n",
       "</table>\n",
       "</div>"
      ],
      "text/plain": [
       "          reviewerID        asin helpful  overall reviewTime  \\\n",
       "1140  A22KW5YWAI5YDO  B000001OMI  [0, 0]      4.0 2013-11-24   \n",
       "1141  A2FUMBORC5EMXG  B000001OMI  [0, 0]      5.0 2014-03-10   \n",
       "1142   A680RUE1FDO8B  B000001OMI  [4, 5]      5.0 2008-11-27   \n",
       "1143  A37NP1T8KCEMOW  B000001OMI  [0, 0]      4.0 2013-12-15   \n",
       "1144  A28OZBLQKKYGOR  B000001OMI  [0, 0]      4.0 2014-03-27   \n",
       "\n",
       "                                          category  \\\n",
       "1140  [Electronics, Headphones, On-Ear Headphones]   \n",
       "1141  [Electronics, Headphones, On-Ear Headphones]   \n",
       "1142  [Electronics, Headphones, On-Ear Headphones]   \n",
       "1143  [Electronics, Headphones, On-Ear Headphones]   \n",
       "1144  [Electronics, Headphones, On-Ear Headphones]   \n",
       "\n",
       "                                            description  \\\n",
       "1140  [The stylish HP200S Stereo Line silver headpho...   \n",
       "1141  [The stylish HP200S Stereo Line silver headpho...   \n",
       "1142  [The stylish HP200S Stereo Line silver headpho...   \n",
       "1143  [The stylish HP200S Stereo Line silver headpho...   \n",
       "1144  [The stylish HP200S Stereo Line silver headpho...   \n",
       "\n",
       "                                                  title   brand  \\\n",
       "1140  Maxell 190318 Lightweight Adjustable Open Air ...  Maxell   \n",
       "1141  Maxell 190318 Lightweight Adjustable Open Air ...  Maxell   \n",
       "1142  Maxell 190318 Lightweight Adjustable Open Air ...  Maxell   \n",
       "1143  Maxell 190318 Lightweight Adjustable Open Air ...  Maxell   \n",
       "1144  Maxell 190318 Lightweight Adjustable Open Air ...  Maxell   \n",
       "\n",
       "                                                feature  \\\n",
       "1140  [Lightweight, Open-air Headphones, Ideal For A...   \n",
       "1141  [Lightweight, Open-air Headphones, Ideal For A...   \n",
       "1142  [Lightweight, Open-air Headphones, Ideal For A...   \n",
       "1143  [Lightweight, Open-air Headphones, Ideal For A...   \n",
       "1144  [Lightweight, Open-air Headphones, Ideal For A...   \n",
       "\n",
       "                                                   rank              main_cat  \\\n",
       "1140  [>#53,588 in Cell Phones & Accessories (See To...  Home Audio & Theater   \n",
       "1141  [>#53,588 in Cell Phones & Accessories (See To...  Home Audio & Theater   \n",
       "1142  [>#53,588 in Cell Phones & Accessories (See To...  Home Audio & Theater   \n",
       "1143  [>#53,588 in Cell Phones & Accessories (See To...  Home Audio & Theater   \n",
       "1144  [>#53,588 in Cell Phones & Accessories (See To...  Home Audio & Theater   \n",
       "\n",
       "      price                                     review_summary rating_class  \\\n",
       "1140  $6.55  Good  headphones.  I like (very much) that the...         good   \n",
       "1141  $6.55  My job involves wearing earphones ALL THE TIME...         good   \n",
       "1142  $6.55  Obviously these headphones are not for the aud...         good   \n",
       "1143  $6.55  These headphones are perfect for the walking i...         good   \n",
       "1144  $6.55  Another good buy.  Again, very affordable, and...         good   \n",
       "\n",
       "      year  \n",
       "1140  2013  \n",
       "1141  2014  \n",
       "1142  2008  \n",
       "1143  2013  \n",
       "1144  2014  "
      ]
     },
     "execution_count": 58,
     "metadata": {},
     "output_type": "execute_result"
    }
   ],
   "source": [
    "# Create a new column for rating class based on ratings \n",
    "df['rating_class'] = df['overall'].apply(lambda x: 'bad' if x < 3 else'good')\n",
    "\n",
    "# Add year of review \n",
    "df['reviewTime'] = pd.to_datetime(df['reviewTime'])\n",
    "df['year'] = df['reviewTime'].dt.year\n",
    "\n",
    "df.head()"
   ]
  },
  {
   "cell_type": "code",
   "execution_count": 50,
   "metadata": {},
   "outputs": [
    {
     "data": {
      "text/plain": [
       "good    50761\n",
       "bad      7534\n",
       "Name: rating_class, dtype: int64"
      ]
     },
     "execution_count": 50,
     "metadata": {},
     "output_type": "execute_result"
    }
   ],
   "source": [
    "df['rating_class'].value_counts()"
   ]
  },
  {
   "cell_type": "code",
   "execution_count": 33,
   "metadata": {},
   "outputs": [
    {
     "data": {
      "text/plain": [
       "0.14842103189456474"
      ]
     },
     "execution_count": 33,
     "metadata": {},
     "output_type": "execute_result"
    }
   ],
   "source": [
    "7534/50761"
   ]
  },
  {
   "cell_type": "markdown",
   "metadata": {},
   "source": [
    "# Text Preprocessing"
   ]
  },
  {
   "cell_type": "code",
   "execution_count": 64,
   "metadata": {},
   "outputs": [
    {
     "name": "stdout",
     "output_type": "stream",
     "text": [
      "Number of raw tokens: 8936068\n"
     ]
    }
   ],
   "source": [
    "# calculate raw tokens in order to measure of cleaned tokens\n",
    "raw_tokens=len([w for t in (df_coffee[\"review_summary\"].apply(word_tokenize)) for w in t])\n",
    "print('Number of raw tokens: {}'.format(raw_tokens))"
   ]
  },
  {
   "cell_type": "code",
   "execution_count": 65,
   "metadata": {},
   "outputs": [],
   "source": [
    "def strip_html(text):\n",
    "    soup = BeautifulSoup(text, \"html.parser\")\n",
    "    return soup.get_text()\n",
    "\n",
    "def remove_between_square_brackets(text):\n",
    "    return re.sub('\\[[^]]*\\]', '', text)\n",
    "\n",
    "def denoise_text(text):\n",
    "    text = strip_html(text)\n",
    "    text = remove_between_square_brackets(text)\n",
    "    return text\n",
    "\n",
    "# special_characters removal\n",
    "def remove_special_characters(text, remove_digits=True):\n",
    "    pattern = r'[^a-zA-z0-9\\s]' if not remove_digits else r'[^a-zA-z\\s]'\n",
    "    text = re.sub(pattern, '', text)\n",
    "    return text\n",
    "\n",
    "def remove_non_ascii(words):\n",
    "    \"\"\"Remove non-ASCII characters from list of tokenized words\"\"\"\n",
    "    new_words = []\n",
    "    for word in words:\n",
    "        new_word = unicodedata.normalize('NFKD', word).encode('ascii', 'ignore').decode('utf-8', 'ignore')\n",
    "        new_words.append(new_word)\n",
    "    return new_words\n",
    "\n",
    "def to_lowercase(words):\n",
    "    \"\"\"Convert all characters to lowercase from list of tokenized words\"\"\"\n",
    "    new_words = []\n",
    "    for word in words:\n",
    "        new_word = word.lower()\n",
    "        new_words.append(new_word)\n",
    "    return new_words\n",
    "\n",
    "def remove_stopwords(words):\n",
    "    \"\"\"Remove stop words from list of tokenized words\"\"\"\n",
    "    new_words = []\n",
    "    for word in words:\n",
    "        if word not in stopword_list:\n",
    "            new_words.append(word)\n",
    "    return new_words\n",
    "\n",
    "def stem_words(words):\n",
    "    \"\"\"Stem words in list of tokenized words\"\"\"\n",
    "    stemmer = LancasterStemmer()\n",
    "    stems = []\n",
    "    for word in words:\n",
    "        stem = stemmer.stem(word)\n",
    "        stems.append(stem)\n",
    "    return stems\n",
    "\n",
    "def remove_punctuation_and_splchars(words):\n",
    "    \"\"\"Remove punctuation from list of tokenized words\"\"\"\n",
    "    new_words = []\n",
    "    for word in words:\n",
    "        new_word = re.sub(r'[^\\w\\s]', '', word)\n",
    "        if new_word != '':\n",
    "            new_word = remove_special_characters(new_word, True)\n",
    "            new_words.append(new_word)\n",
    "    return new_words\n",
    "\n",
    "def replace_numbers(words):\n",
    "    \"\"\"Replace all interger occurrences in list of tokenized words with textual representation\"\"\"\n",
    "    p = inflect.engine()\n",
    "    new_words = []\n",
    "    for word in words:\n",
    "        if word.isdigit():\n",
    "            new_word = p.number_to_words(word)\n",
    "            new_words.append(new_word)\n",
    "        else:\n",
    "            new_words.append(word)\n",
    "    return new_words\n",
    "\n",
    "stopword_list= stopwords.words('english')\n",
    "stopword_list.remove('no')\n",
    "stopword_list.remove('not')\n",
    "\n",
    "def lemmatize_verbs(words):\n",
    "    \"\"\"Lemmatize verbs in list of tokenized words\"\"\"\n",
    "    lemmatizer = WordNetLemmatizer()\n",
    "    lemmas = []\n",
    "    for word in words:\n",
    "        lemma = lemmatizer.lemmatize(word, pos='v')\n",
    "        lemmas.append(lemma)\n",
    "    return lemmas\n",
    "\n",
    "def normalize(words):\n",
    "    words = remove_non_ascii(words)\n",
    "    words = to_lowercase(words)\n",
    "    words = remove_punctuation_and_splchars(words)\n",
    "    words = remove_stopwords(words)\n",
    "    return words\n",
    "\n",
    "def lemmatize(words):\n",
    "    lemmas = lemmatize_verbs(words)\n",
    "    return lemmas"
   ]
  },
  {
   "cell_type": "code",
   "execution_count": 66,
   "metadata": {},
   "outputs": [],
   "source": [
    "def normalize_and_lemmaize(input):\n",
    "    sample = denoise_text(input)\n",
    "    #sample = expand_contractions(sample)\n",
    "    sample = remove_special_characters(sample)\n",
    "    words = nltk.word_tokenize(sample)\n",
    "    words = normalize(words)\n",
    "    lemmas = lemmatize(words)\n",
    "    return ' '.join(lemmas)"
   ]
  },
  {
   "cell_type": "code",
   "execution_count": 67,
   "metadata": {},
   "outputs": [
    {
     "name": "stdout",
     "output_type": "stream",
     "text": [
      "<class 'pandas.core.frame.DataFrame'>\n",
      "Int64Index: 58277 entries, 1140 to 1785367\n",
      "Data columns (total 16 columns):\n",
      " #   Column          Non-Null Count  Dtype         \n",
      "---  ------          --------------  -----         \n",
      " 0   reviewerID      58277 non-null  object        \n",
      " 1   asin            58277 non-null  object        \n",
      " 2   helpful         58277 non-null  object        \n",
      " 3   overall         58277 non-null  float64       \n",
      " 4   reviewTime      58277 non-null  datetime64[ns]\n",
      " 5   category        58277 non-null  object        \n",
      " 6   description     58277 non-null  object        \n",
      " 7   title           58277 non-null  object        \n",
      " 8   brand           58249 non-null  object        \n",
      " 9   feature         58277 non-null  object        \n",
      " 10  rank            58277 non-null  object        \n",
      " 11  main_cat        58277 non-null  object        \n",
      " 12  price           32405 non-null  object        \n",
      " 13  review_summary  58277 non-null  object        \n",
      " 14  rating_class    58277 non-null  object        \n",
      " 15  year            58277 non-null  int64         \n",
      "dtypes: datetime64[ns](1), float64(1), int64(1), object(13)\n",
      "memory usage: 7.6+ MB\n"
     ]
    }
   ],
   "source": [
    "df.info()"
   ]
  },
  {
   "cell_type": "code",
   "execution_count": 68,
   "metadata": {},
   "outputs": [],
   "source": [
    "df['clean_text'] = df['review_summary'].apply(lambda text: normalize_and_lemmaize(text))"
   ]
  },
  {
   "cell_type": "code",
   "execution_count": 69,
   "metadata": {},
   "outputs": [
    {
     "data": {
      "text/html": [
       "<div>\n",
       "<style scoped>\n",
       "    .dataframe tbody tr th:only-of-type {\n",
       "        vertical-align: middle;\n",
       "    }\n",
       "\n",
       "    .dataframe tbody tr th {\n",
       "        vertical-align: top;\n",
       "    }\n",
       "\n",
       "    .dataframe thead th {\n",
       "        text-align: right;\n",
       "    }\n",
       "</style>\n",
       "<table border=\"1\" class=\"dataframe\">\n",
       "  <thead>\n",
       "    <tr style=\"text-align: right;\">\n",
       "      <th></th>\n",
       "      <th>reviewerID</th>\n",
       "      <th>asin</th>\n",
       "      <th>helpful</th>\n",
       "      <th>overall</th>\n",
       "      <th>reviewTime</th>\n",
       "      <th>category</th>\n",
       "      <th>description</th>\n",
       "      <th>title</th>\n",
       "      <th>brand</th>\n",
       "      <th>feature</th>\n",
       "      <th>rank</th>\n",
       "      <th>main_cat</th>\n",
       "      <th>price</th>\n",
       "      <th>review_summary</th>\n",
       "      <th>rating_class</th>\n",
       "      <th>year</th>\n",
       "      <th>clean_text</th>\n",
       "    </tr>\n",
       "  </thead>\n",
       "  <tbody>\n",
       "    <tr>\n",
       "      <th>499835</th>\n",
       "      <td>A3RUEBT3B6482W</td>\n",
       "      <td>B00172M8HS</td>\n",
       "      <td>[0, 0]</td>\n",
       "      <td>5.0</td>\n",
       "      <td>2013-01-03</td>\n",
       "      <td>[Electronics, Headphones, On-Ear Headphones]</td>\n",
       "      <td>[Features:\\n\\n * Safe, no-painted finish\\n * H...</td>\n",
       "      <td>Sony Mdr-222Kd/Pin Childrens Headphones (Pink)</td>\n",
       "      <td>Sony</td>\n",
       "      <td>[Designed For Children.Connectivity Technology...</td>\n",
       "      <td>[&gt;#111,419 in Cell Phones &amp; Accessories (See T...</td>\n",
       "      <td>Home Audio &amp; Theater</td>\n",
       "      <td>$2.00</td>\n",
       "      <td>This pair of headphones is ideal for girls age...</td>\n",
       "      <td>good</td>\n",
       "      <td>2013</td>\n",
       "      <td>pair headphones ideal girls age smaller regula...</td>\n",
       "    </tr>\n",
       "    <tr>\n",
       "      <th>76454</th>\n",
       "      <td>A1M4Q59TC9CI6R</td>\n",
       "      <td>B00006J07O</td>\n",
       "      <td>[0, 0]</td>\n",
       "      <td>2.0</td>\n",
       "      <td>2012-01-21</td>\n",
       "      <td>[Electronics, Headphones, Earbud Headphones]</td>\n",
       "      <td>[Panasonic RP-HV152 Portable Earbud Headphones...</td>\n",
       "      <td>Panasonic RP-HV152 Portable Earbud Headphones ...</td>\n",
       "      <td>Panasonic</td>\n",
       "      <td>[XBS port increases bass response, Neodymium r...</td>\n",
       "      <td>[&gt;#577,286 in Cell Phones &amp;amp; Accessories (S...</td>\n",
       "      <td>Home Audio &amp;amp; Theater</td>\n",
       "      <td>NaN</td>\n",
       "      <td>These headphones have poor sound quality. Alth...</td>\n",
       "      <td>bad</td>\n",
       "      <td>2012</td>\n",
       "      <td>headphones poor sound quality although price c...</td>\n",
       "    </tr>\n",
       "    <tr>\n",
       "      <th>1745860</th>\n",
       "      <td>A7KVMEIDJP0JK</td>\n",
       "      <td>B00EWJHRMY</td>\n",
       "      <td>[0, 0]</td>\n",
       "      <td>5.0</td>\n",
       "      <td>2014-01-11</td>\n",
       "      <td>[Electronics, Headphones, Over-Ear Headphones]</td>\n",
       "      <td>[Same lifelike sound-now available in limited-...</td>\n",
       "      <td>Bose QuietComfort 15 Acoustic Noise Cancelling...</td>\n",
       "      <td>Bose</td>\n",
       "      <td>[The best around-ear headphones from Bose redu...</td>\n",
       "      <td>[&gt;#106,676 in Cell Phones &amp; Accessories (See T...</td>\n",
       "      <td>Home Audio &amp; Theater</td>\n",
       "      <td>NaN</td>\n",
       "      <td>I've owned BOSE, SONY, and PHILLIPS noise canc...</td>\n",
       "      <td>good</td>\n",
       "      <td>2014</td>\n",
       "      <td>ive own bose sony phillips noise cancel headse...</td>\n",
       "    </tr>\n",
       "    <tr>\n",
       "      <th>894835</th>\n",
       "      <td>AJM8T3W3A0BLY</td>\n",
       "      <td>B003MB0WMA</td>\n",
       "      <td>[1, 1]</td>\n",
       "      <td>5.0</td>\n",
       "      <td>2012-05-01</td>\n",
       "      <td>[Electronics, Headphones, Earbud Headphones]</td>\n",
       "      <td>[Built to fuel your music, these cush Marqii h...</td>\n",
       "      <td>Sony MDRPQ4/PNK PIIQ Headphones</td>\n",
       "      <td>Sony</td>\n",
       "      <td>[Ear Cups : Closed, Dynamic (supra-aural), Des...</td>\n",
       "      <td>[&gt;#446,465 in Cell Phones &amp; Accessories (See T...</td>\n",
       "      <td>Home Audio &amp; Theater</td>\n",
       "      <td>NaN</td>\n",
       "      <td>I love these buds for my exercise at the gym. ...</td>\n",
       "      <td>good</td>\n",
       "      <td>2012</td>\n",
       "      <td>love bud exercise gym yoga upside place workou...</td>\n",
       "    </tr>\n",
       "    <tr>\n",
       "      <th>614824</th>\n",
       "      <td>A2H19YOC0VBAA4</td>\n",
       "      <td>B001RB24NM</td>\n",
       "      <td>[1, 1]</td>\n",
       "      <td>2.0</td>\n",
       "      <td>2011-03-31</td>\n",
       "      <td>[Electronics, Headphones, Earbud Headphones]</td>\n",
       "      <td>[Successor model for MDR-EX55  change to new h...</td>\n",
       "      <td>Sony MDR-EX56LP/BLK EX Style Headphones - Hybr...</td>\n",
       "      <td>Sony</td>\n",
       "      <td>[9mm EX provides comfort fit and deep bass sou...</td>\n",
       "      <td>[&gt;#749,083 in Cell Phones &amp; Accessories (See T...</td>\n",
       "      <td>Home Audio &amp; Theater</td>\n",
       "      <td>NaN</td>\n",
       "      <td>The right ear in mine went out and just stoppe...</td>\n",
       "      <td>bad</td>\n",
       "      <td>2011</td>\n",
       "      <td>right ear mine go stop play without cord damag...</td>\n",
       "    </tr>\n",
       "  </tbody>\n",
       "</table>\n",
       "</div>"
      ],
      "text/plain": [
       "             reviewerID        asin helpful  overall reviewTime  \\\n",
       "499835   A3RUEBT3B6482W  B00172M8HS  [0, 0]      5.0 2013-01-03   \n",
       "76454    A1M4Q59TC9CI6R  B00006J07O  [0, 0]      2.0 2012-01-21   \n",
       "1745860   A7KVMEIDJP0JK  B00EWJHRMY  [0, 0]      5.0 2014-01-11   \n",
       "894835    AJM8T3W3A0BLY  B003MB0WMA  [1, 1]      5.0 2012-05-01   \n",
       "614824   A2H19YOC0VBAA4  B001RB24NM  [1, 1]      2.0 2011-03-31   \n",
       "\n",
       "                                               category  \\\n",
       "499835     [Electronics, Headphones, On-Ear Headphones]   \n",
       "76454      [Electronics, Headphones, Earbud Headphones]   \n",
       "1745860  [Electronics, Headphones, Over-Ear Headphones]   \n",
       "894835     [Electronics, Headphones, Earbud Headphones]   \n",
       "614824     [Electronics, Headphones, Earbud Headphones]   \n",
       "\n",
       "                                               description  \\\n",
       "499835   [Features:\\n\\n * Safe, no-painted finish\\n * H...   \n",
       "76454    [Panasonic RP-HV152 Portable Earbud Headphones...   \n",
       "1745860  [Same lifelike sound-now available in limited-...   \n",
       "894835   [Built to fuel your music, these cush Marqii h...   \n",
       "614824   [Successor model for MDR-EX55  change to new h...   \n",
       "\n",
       "                                                     title      brand  \\\n",
       "499835      Sony Mdr-222Kd/Pin Childrens Headphones (Pink)       Sony   \n",
       "76454    Panasonic RP-HV152 Portable Earbud Headphones ...  Panasonic   \n",
       "1745860  Bose QuietComfort 15 Acoustic Noise Cancelling...       Bose   \n",
       "894835                     Sony MDRPQ4/PNK PIIQ Headphones       Sony   \n",
       "614824   Sony MDR-EX56LP/BLK EX Style Headphones - Hybr...       Sony   \n",
       "\n",
       "                                                   feature  \\\n",
       "499835   [Designed For Children.Connectivity Technology...   \n",
       "76454    [XBS port increases bass response, Neodymium r...   \n",
       "1745860  [The best around-ear headphones from Bose redu...   \n",
       "894835   [Ear Cups : Closed, Dynamic (supra-aural), Des...   \n",
       "614824   [9mm EX provides comfort fit and deep bass sou...   \n",
       "\n",
       "                                                      rank  \\\n",
       "499835   [>#111,419 in Cell Phones & Accessories (See T...   \n",
       "76454    [>#577,286 in Cell Phones &amp; Accessories (S...   \n",
       "1745860  [>#106,676 in Cell Phones & Accessories (See T...   \n",
       "894835   [>#446,465 in Cell Phones & Accessories (See T...   \n",
       "614824   [>#749,083 in Cell Phones & Accessories (See T...   \n",
       "\n",
       "                         main_cat  price  \\\n",
       "499835       Home Audio & Theater  $2.00   \n",
       "76454    Home Audio &amp; Theater    NaN   \n",
       "1745860      Home Audio & Theater    NaN   \n",
       "894835       Home Audio & Theater    NaN   \n",
       "614824       Home Audio & Theater    NaN   \n",
       "\n",
       "                                            review_summary rating_class  year  \\\n",
       "499835   This pair of headphones is ideal for girls age...         good  2013   \n",
       "76454    These headphones have poor sound quality. Alth...          bad  2012   \n",
       "1745860  I've owned BOSE, SONY, and PHILLIPS noise canc...         good  2014   \n",
       "894835   I love these buds for my exercise at the gym. ...         good  2012   \n",
       "614824   The right ear in mine went out and just stoppe...          bad  2011   \n",
       "\n",
       "                                                clean_text  \n",
       "499835   pair headphones ideal girls age smaller regula...  \n",
       "76454    headphones poor sound quality although price c...  \n",
       "1745860  ive own bose sony phillips noise cancel headse...  \n",
       "894835   love bud exercise gym yoga upside place workou...  \n",
       "614824   right ear mine go stop play without cord damag...  "
      ]
     },
     "execution_count": 69,
     "metadata": {},
     "output_type": "execute_result"
    }
   ],
   "source": [
    "df.sample(5)"
   ]
  },
  {
   "cell_type": "code",
   "execution_count": 72,
   "metadata": {},
   "outputs": [
    {
     "data": {
      "text/plain": [
       "\"Good quality for the price.  We were surprised by the sound coming out of such a small speaker.  It obviously doesn't have as rich a sound as a larger, more expensive bluetooth speaker, but has decent quality and volume for it's size.  The bluetooth pairing works well and we haven't had any problems with static or break-ups in the bluetooth signal.  We took the speaker to the beach and kept our iPod in the backpack where it could stay safe and clean, and placed the speaker on our cooler.  It provided plenty of volume and it was nice that we could move the speaker around as needed, without interrupting the music.The speaker comes with a rechargeable battery and a USB cable, and my only complaint about the speaker is that there is no charge indicator light - nothing lights ups when it is plugged in, so you know it is charging.  Nor is there anything to indicate that the speaker is done charging.  If they could fix that one thing, this would be a perfect little bluetooth speaker.  Even without that, for the price I can't complain much.I haven't used the built-in microphone yet for phone-calls, but will update after I've used that feature -- next weekend I'm traveling and have a rental car, so I hope to use this as a speaker-phone for the car.Good small bluetooth speaker\""
      ]
     },
     "execution_count": 72,
     "metadata": {},
     "output_type": "execute_result"
    }
   ],
   "source": [
    "# Look at a sample review, before and after preprocessing\n",
    "df['review_summary'][1785367]"
   ]
  },
  {
   "cell_type": "code",
   "execution_count": 73,
   "metadata": {},
   "outputs": [
    {
     "data": {
      "text/plain": [
       "'good quality price surprise sound come small speaker obviously doesnt rich sound larger expensive bluetooth speaker decent quality volume size bluetooth pair work well havent problems static breakups bluetooth signal take speaker beach keep ipod backpack could stay safe clean place speaker cooler provide plenty volume nice could move speaker around need without interrupt musicthe speaker come rechargeable battery usb cable complaint speaker no charge indicator light nothing light up plug know charge anything indicate speaker do charge could fix one thing would perfect little bluetooth speaker even without price cant complain muchi havent use builtin microphone yet phonecalls update ive use feature next weekend im travel rental car hope use speakerphone cargood small bluetooth speaker'"
      ]
     },
     "execution_count": 73,
     "metadata": {},
     "output_type": "execute_result"
    }
   ],
   "source": [
    "df['clean_text'][1785367]"
   ]
  },
  {
   "cell_type": "code",
   "execution_count": 74,
   "metadata": {},
   "outputs": [
    {
     "name": "stdout",
     "output_type": "stream",
     "text": [
      "Number of clean tokens: 4041974\n",
      "\n",
      "Percentage of removed tokens: 0.55\n"
     ]
    }
   ],
   "source": [
    "# Let's put aside number of raw tokens in order to measure of cleaned tokens\n",
    "clean_tokens=len([w for t in (df[\"clean_text\"].apply(word_tokenize)) for w in t])\n",
    "\n",
    "print('Number of clean tokens: {}\\n'.format(clean_tokens))\n",
    "print('Percentage of removed tokens: {0:.2f}'.format(1-(clean_tokens/raw_tokens)))"
   ]
  },
  {
   "cell_type": "code",
   "execution_count": 6,
   "metadata": {},
   "outputs": [],
   "source": [
    "# Pickle headphone data\n",
    "df.to_pickle('../Data/Processed Data/Headphone_CleanText.pkl')"
   ]
  },
  {
   "cell_type": "markdown",
   "metadata": {},
   "source": [
    "# EDA"
   ]
  },
  {
   "cell_type": "code",
   "execution_count": 4,
   "metadata": {},
   "outputs": [],
   "source": [
    "df = pd.read_pickle('../Data/Processed Data/Headphone_CleanText.pkl')"
   ]
  },
  {
   "cell_type": "markdown",
   "metadata": {},
   "source": [
    "**1.** Number of reviews per rating:"
   ]
  },
  {
   "cell_type": "code",
   "execution_count": 8,
   "metadata": {
    "scrolled": true
   },
   "outputs": [
    {
     "data": {
      "image/png": "[encoded data removed]",
      "text/plain": [
       "<Figure size 576x360 with 1 Axes>"
      ]
     },
     "metadata": {
      "needs_background": "light"
     },
     "output_type": "display_data"
    }
   ],
   "source": [
    "ratings_counts = df.groupby('overall', as_index= False)['asin'].count().sort_values('asin', ascending=True)\n",
    "ratings_counts.index=[1,2,3,4,5]\n",
    "\n",
    "plt.figure(figsize = (8,5))\n",
    "mycolors =['orange', 'darkorange','chocolate', 'sienna', 'saddlebrown']       \n",
    "ratings_counts['asin'].plot(kind=\"bar\", color = mycolors)\n",
    "\n",
    "sns.despine()\n",
    "plt.xticks(rotation=0)\n",
    "plt.title('Total Review Numbers for Each Rating')\n",
    "plt.xlabel('Rating', fontsize = 13)\n",
    "plt.ylabel('Number of Reviews', fontsize = 13)\n",
    "\n",
    "plt.savefig('../Images/Reviews_per_rating.jpg');"
   ]
  },
  {
   "cell_type": "code",
   "execution_count": 10,
   "metadata": {},
   "outputs": [
    {
     "data": {
      "image/png": "[encoded data removed]",
      "text/plain": [
       "<Figure size 504x504 with 1 Axes>"
      ]
     },
     "metadata": {},
     "output_type": "display_data"
    }
   ],
   "source": [
    "plt.figure(figsize = (7,7))\n",
    "mycolors =['lavenderblush', 'pink', 'lightcoral', 'indianred', 'darkred'] \n",
    "\n",
    "df2 = df.rename({'overall': 'Ratings'},axis=1)\n",
    "df2.groupby('Ratings')['Ratings'].count().plot(kind='pie',autopct='%1.0f%%',\n",
    "                                                     startangle=90,explode=(.1,0,0,0,0), \n",
    "                                                     colors = mycolors)\n",
    "\n",
    "plt.savefig('../Images/Reviews_pie_chart.jpg');"
   ]
  },
  {
   "cell_type": "markdown",
   "metadata": {},
   "source": [
    "---\n",
    "**2.** Review length per rating:"
   ]
  },
  {
   "cell_type": "code",
   "execution_count": 6,
   "metadata": {},
   "outputs": [
    {
     "data": {
      "image/png": "[encoded data removed]",
      "text/plain": [
       "<Figure size 576x432 with 1 Axes>"
      ]
     },
     "metadata": {
      "needs_background": "light"
     },
     "output_type": "display_data"
    }
   ],
   "source": [
    "plt.figure(figsize = (8,6))\n",
    "mycolors = ['peachpuff', 'orange', 'darkorange', 'chocolate', 'saddlebrown']\n",
    "\n",
    "sns.boxplot(x=\"overall\",y='review_length',data=df,\n",
    "            order = [1,2,3,4,5],\n",
    "            palette= mycolors)\n",
    "sns.despine()\n",
    "\n",
    "plt.xlabel('Rating', fontsize = 13) \n",
    "plt.ylabel('Review Length', fontsize = 13);"
   ]
  },
  {
   "cell_type": "code",
   "execution_count": 7,
   "metadata": {},
   "outputs": [
    {
     "data": {
      "image/png": "[encoded data removed]",
      "text/plain": [
       "<Figure size 576x432 with 1 Axes>"
      ]
     },
     "metadata": {
      "needs_background": "light"
     },
     "output_type": "display_data"
    }
   ],
   "source": [
    "plt.figure(figsize = (8,6))\n",
    "mycolors =['peachpuff', 'orange', 'darkorange', 'chocolate', 'saddlebrown']\n",
    "\n",
    "sns.boxplot(x=\"overall\",y='review_length',data=df,\n",
    "            showfliers=False,\n",
    "            order = [1,2,3,4,5],\n",
    "            palette= mycolors)\n",
    "\n",
    "sns.despine()\n",
    "plt.xlabel('Rating', fontsize = 13) \n",
    "plt.ylabel('Review Length', fontsize = 13)\n",
    "\n",
    "plt.savefig('../Images/Box_plot_reviews_length.jpg');"
   ]
  },
  {
   "cell_type": "markdown",
   "metadata": {},
   "source": [
    "---\n",
    "**3.** Number of reviews and products per year "
   ]
  },
  {
   "cell_type": "code",
   "execution_count": 13,
   "metadata": {},
   "outputs": [
    {
     "data": {
      "image/png": "[encoded data removed]",
      "text/plain": [
       "<Figure size 576x360 with 1 Axes>"
      ]
     },
     "metadata": {
      "needs_background": "light"
     },
     "output_type": "display_data"
    }
   ],
   "source": [
    "review_per_year = df.groupby('year', as_index= False)['asin'].count().sort_values('year')\n",
    "review_per_year = review_per_year.rename({'asin':'Number of Reviews'}, axis=1)\n",
    "\n",
    "plt.figure(figsize = (8,5))\n",
    "#mycolors =['crimson', 'crimson', 'lightcoral', 'pink', 'pink'] \n",
    "sns.barplot(x='year',y='Number of Reviews', data = review_per_year, palette ='Oranges')\n",
    "sns.despine()\n",
    "\n",
    "plt.title('Total Review Numbers for Each Year')\n",
    "plt.xlabel('Year', fontsize = 13) \n",
    "plt.ylabel('Number of Reviews',  fontsize = 13) \n",
    "\n",
    "plt.savefig('../Images/Reviews_per_year.jpg');"
   ]
  },
  {
   "cell_type": "markdown",
   "metadata": {},
   "source": [
    "---\n",
    "**3.** Distribution of review lengths:"
   ]
  },
  {
   "cell_type": "code",
   "execution_count": 131,
   "metadata": {},
   "outputs": [
    {
     "data": {
      "image/png": "[encoded data removed]",
      "text/plain": [
       "<Figure size 576x360 with 1 Axes>"
      ]
     },
     "metadata": {
      "needs_background": "light"
     },
     "output_type": "display_data"
    }
   ],
   "source": [
    "plt.figure(figsize=(8,5))\n",
    "\n",
    "plt.hist('review_length',data=df, bins=150, color = 'chocolate')\n",
    "\n",
    "sns.despine()\n",
    "plt.title(\"Distribution of Review Length\")  \n",
    "plt.ylim(0,14000)\n",
    "plt.xlim(0,4000)\n",
    "plt.xlabel('Review length', fontsize= 13)\n",
    "plt.ylabel('Number of Reviews',  fontsize= 13)\n",
    "\n",
    "plt.savefig('../Images/Distribution_of_review_length.jpg');"
   ]
  },
  {
   "cell_type": "markdown",
   "metadata": {},
   "source": [
    "---\n",
    "**3.** Look at the top brands in the data "
   ]
  },
  {
   "cell_type": "code",
   "execution_count": 9,
   "metadata": {},
   "outputs": [
    {
     "data": {
      "image/png": "[encoded data removed]",
      "text/plain": [
       "<Figure size 720x432 with 1 Axes>"
      ]
     },
     "metadata": {
      "needs_background": "light"
     },
     "output_type": "display_data"
    }
   ],
   "source": [
    "brands = df[\"brand\"].value_counts()\n",
    "\n",
    "plt.figure(figsize=(10,6))    \n",
    "mycolors =['saddlebrown', 'chocolate', 'chocolate', 'darkorange', 'darkorange', \n",
    "         'darkorange', 'orange', 'orange','peachpuff','peachpuff']\n",
    "\n",
    "brands[:10].plot(kind='bar', color = mycolors) \n",
    "\n",
    "sns.despine()\n",
    "plt.title(\"Number of Reviews for the Top 10 Headphone Brands\")\n",
    "plt.xlabel('Brand Name', fontsize= 13)\n",
    "plt.ylabel('Number of Reviews', fontsize= 13)\n",
    "\n",
    "plt.savefig('../Images/Top_10_brands.jpg', bbox_inches='tight');"
   ]
  }
 ],
 "metadata": {
  "kernelspec": {
   "display_name": "Python 3",
   "language": "python",
   "name": "python3"
  },
  "language_info": {
   "codemirror_mode": {
    "name": "ipython",
    "version": 3
   },
   "file_extension": ".py",
   "mimetype": "text/x-python",
   "name": "python",
   "nbconvert_exporter": "python",
   "pygments_lexer": "ipython3",
   "version": "3.8.2"
  }
 },
 "nbformat": 4,
 "nbformat_minor": 4
}
