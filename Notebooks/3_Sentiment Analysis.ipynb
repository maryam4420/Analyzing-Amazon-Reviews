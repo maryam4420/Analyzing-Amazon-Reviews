{
 "cells": [
  {
   "cell_type": "code",
   "execution_count": 1,
   "metadata": {},
   "outputs": [],
   "source": [
    "import pandas as pd\n",
    "import numpy as np\n",
    "import seaborn as sns\n",
    "import matplotlib.pyplot as plt\n",
    "from nltk.sentiment.vader import SentimentIntensityAnalyzer"
   ]
  },
  {
   "cell_type": "code",
   "execution_count": 2,
   "metadata": {},
   "outputs": [],
   "source": [
    "df = pd.read_pickle('../Data/Processed Data/Headphone_CleanText.pkl')"
   ]
  },
  {
   "cell_type": "code",
   "execution_count": 3,
   "metadata": {},
   "outputs": [],
   "source": [
    "df = df[~df['clean_text'].isna()]"
   ]
  },
  {
   "cell_type": "code",
   "execution_count": 4,
   "metadata": {},
   "outputs": [],
   "source": [
    "df = df.drop(df[(df['review_length'] > 150) \n",
    "                                           & (df['rating_class'] == 'good')\n",
    "                                          ].index)"
   ]
  },
  {
   "cell_type": "code",
   "execution_count": 5,
   "metadata": {},
   "outputs": [
    {
     "data": {
      "text/plain": [
       "(17271, 19)"
      ]
     },
     "execution_count": 5,
     "metadata": {},
     "output_type": "execute_result"
    }
   ],
   "source": [
    "df.shape"
   ]
  },
  {
   "cell_type": "code",
   "execution_count": 6,
   "metadata": {},
   "outputs": [],
   "source": [
    "analyser = SentimentIntensityAnalyzer()"
   ]
  },
  {
   "cell_type": "code",
   "execution_count": 7,
   "metadata": {},
   "outputs": [],
   "source": [
    "def sentiment(x):\n",
    "    return analyser.polarity_scores(x)"
   ]
  },
  {
   "cell_type": "code",
   "execution_count": 8,
   "metadata": {},
   "outputs": [],
   "source": [
    "df['sentiment'] = df['clean_text'].apply(sentiment)"
   ]
  },
  {
   "cell_type": "code",
   "execution_count": 9,
   "metadata": {},
   "outputs": [],
   "source": [
    "df2 = pd.concat([df.drop(['sentiment'], axis=1), df['sentiment'].apply(pd.Series)], axis=1)"
   ]
  },
  {
   "cell_type": "code",
   "execution_count": 10,
   "metadata": {},
   "outputs": [
    {
     "data": {
      "text/html": [
       "<div>\n",
       "<style scoped>\n",
       "    .dataframe tbody tr th:only-of-type {\n",
       "        vertical-align: middle;\n",
       "    }\n",
       "\n",
       "    .dataframe tbody tr th {\n",
       "        vertical-align: top;\n",
       "    }\n",
       "\n",
       "    .dataframe thead th {\n",
       "        text-align: right;\n",
       "    }\n",
       "</style>\n",
       "<table border=\"1\" class=\"dataframe\">\n",
       "  <thead>\n",
       "    <tr style=\"text-align: right;\">\n",
       "      <th></th>\n",
       "      <th>reviewerID</th>\n",
       "      <th>asin</th>\n",
       "      <th>helpful</th>\n",
       "      <th>overall</th>\n",
       "      <th>reviewTime</th>\n",
       "      <th>category</th>\n",
       "      <th>description</th>\n",
       "      <th>title</th>\n",
       "      <th>brand</th>\n",
       "      <th>feature</th>\n",
       "      <th>...</th>\n",
       "      <th>review_summary</th>\n",
       "      <th>rating_class</th>\n",
       "      <th>year</th>\n",
       "      <th>clean_text</th>\n",
       "      <th>rating_class_num</th>\n",
       "      <th>review_length</th>\n",
       "      <th>neg</th>\n",
       "      <th>neu</th>\n",
       "      <th>pos</th>\n",
       "      <th>compound</th>\n",
       "    </tr>\n",
       "  </thead>\n",
       "  <tbody>\n",
       "    <tr>\n",
       "      <th>1140</th>\n",
       "      <td>A22KW5YWAI5YDO</td>\n",
       "      <td>B000001OMI</td>\n",
       "      <td>[0, 0]</td>\n",
       "      <td>4.0</td>\n",
       "      <td>2013-11-24</td>\n",
       "      <td>[Electronics, Headphones, On-Ear Headphones]</td>\n",
       "      <td>[The stylish HP200S Stereo Line silver headpho...</td>\n",
       "      <td>Maxell 190318 Lightweight Adjustable Open Air ...</td>\n",
       "      <td>Maxell</td>\n",
       "      <td>[Lightweight, Open-air Headphones, Ideal For A...</td>\n",
       "      <td>...</td>\n",
       "      <td>Good  headphones.  I like (very much) that the...</td>\n",
       "      <td>good</td>\n",
       "      <td>2013</td>\n",
       "      <td>good headphones like much wire one side lightw...</td>\n",
       "      <td>1</td>\n",
       "      <td>112</td>\n",
       "      <td>0.000</td>\n",
       "      <td>0.449</td>\n",
       "      <td>0.551</td>\n",
       "      <td>0.9287</td>\n",
       "    </tr>\n",
       "    <tr>\n",
       "      <th>1141</th>\n",
       "      <td>A2FUMBORC5EMXG</td>\n",
       "      <td>B000001OMI</td>\n",
       "      <td>[0, 0]</td>\n",
       "      <td>5.0</td>\n",
       "      <td>2014-03-10</td>\n",
       "      <td>[Electronics, Headphones, On-Ear Headphones]</td>\n",
       "      <td>[The stylish HP200S Stereo Line silver headpho...</td>\n",
       "      <td>Maxell 190318 Lightweight Adjustable Open Air ...</td>\n",
       "      <td>Maxell</td>\n",
       "      <td>[Lightweight, Open-air Headphones, Ideal For A...</td>\n",
       "      <td>...</td>\n",
       "      <td>My job involves wearing earphones ALL THE TIME...</td>\n",
       "      <td>good</td>\n",
       "      <td>2014</td>\n",
       "      <td>job involve wear earphones time tight ears get...</td>\n",
       "      <td>1</td>\n",
       "      <td>140</td>\n",
       "      <td>0.091</td>\n",
       "      <td>0.657</td>\n",
       "      <td>0.252</td>\n",
       "      <td>0.6590</td>\n",
       "    </tr>\n",
       "  </tbody>\n",
       "</table>\n",
       "<p>2 rows × 23 columns</p>\n",
       "</div>"
      ],
      "text/plain": [
       "          reviewerID        asin helpful  overall reviewTime  \\\n",
       "1140  A22KW5YWAI5YDO  B000001OMI  [0, 0]      4.0 2013-11-24   \n",
       "1141  A2FUMBORC5EMXG  B000001OMI  [0, 0]      5.0 2014-03-10   \n",
       "\n",
       "                                          category  \\\n",
       "1140  [Electronics, Headphones, On-Ear Headphones]   \n",
       "1141  [Electronics, Headphones, On-Ear Headphones]   \n",
       "\n",
       "                                            description  \\\n",
       "1140  [The stylish HP200S Stereo Line silver headpho...   \n",
       "1141  [The stylish HP200S Stereo Line silver headpho...   \n",
       "\n",
       "                                                  title   brand  \\\n",
       "1140  Maxell 190318 Lightweight Adjustable Open Air ...  Maxell   \n",
       "1141  Maxell 190318 Lightweight Adjustable Open Air ...  Maxell   \n",
       "\n",
       "                                                feature  ...  \\\n",
       "1140  [Lightweight, Open-air Headphones, Ideal For A...  ...   \n",
       "1141  [Lightweight, Open-air Headphones, Ideal For A...  ...   \n",
       "\n",
       "                                         review_summary rating_class  year  \\\n",
       "1140  Good  headphones.  I like (very much) that the...         good  2013   \n",
       "1141  My job involves wearing earphones ALL THE TIME...         good  2014   \n",
       "\n",
       "                                             clean_text rating_class_num  \\\n",
       "1140  good headphones like much wire one side lightw...                1   \n",
       "1141  job involve wear earphones time tight ears get...                1   \n",
       "\n",
       "      review_length    neg    neu    pos  compound  \n",
       "1140            112  0.000  0.449  0.551    0.9287  \n",
       "1141            140  0.091  0.657  0.252    0.6590  \n",
       "\n",
       "[2 rows x 23 columns]"
      ]
     },
     "execution_count": 10,
     "metadata": {},
     "output_type": "execute_result"
    }
   ],
   "source": [
    "df2.head(2)"
   ]
  },
  {
   "cell_type": "markdown",
   "metadata": {},
   "source": [
    "---\n",
    "Check the sentiments for a sample good and bad review:"
   ]
  },
  {
   "cell_type": "code",
   "execution_count": 11,
   "metadata": {},
   "outputs": [
    {
     "data": {
      "text/plain": [
       "4.0"
      ]
     },
     "execution_count": 11,
     "metadata": {},
     "output_type": "execute_result"
    }
   ],
   "source": [
    "#Check the sentiments for a sample review\n",
    "df.loc[1140]['overall']"
   ]
  },
  {
   "cell_type": "code",
   "execution_count": 12,
   "metadata": {},
   "outputs": [
    {
     "data": {
      "text/plain": [
       "{'neg': 0.0, 'neu': 0.449, 'pos': 0.551, 'compound': 0.9287}"
      ]
     },
     "execution_count": 12,
     "metadata": {},
     "output_type": "execute_result"
    }
   ],
   "source": [
    "df.loc[1140]['sentiment']"
   ]
  },
  {
   "cell_type": "code",
   "execution_count": 13,
   "metadata": {},
   "outputs": [
    {
     "data": {
      "text/plain": [
       "'Good  headphones.  I like (very much) that they only have a wire on one side  and they are lightweight..The sound is pretty good. I enjoy using them.Light, one wire, headphones...'"
      ]
     },
     "execution_count": 13,
     "metadata": {},
     "output_type": "execute_result"
    }
   ],
   "source": [
    "df.loc[1140]['review_summary']"
   ]
  },
  {
   "cell_type": "code",
   "execution_count": 14,
   "metadata": {},
   "outputs": [
    {
     "data": {
      "text/plain": [
       "1.0"
      ]
     },
     "execution_count": 14,
     "metadata": {},
     "output_type": "execute_result"
    }
   ],
   "source": [
    "df.loc[147330]['overall']"
   ]
  },
  {
   "cell_type": "code",
   "execution_count": 15,
   "metadata": {},
   "outputs": [
    {
     "data": {
      "text/plain": [
       "{'neg': 0.275, 'neu': 0.725, 'pos': 0.0, 'compound': -0.6496}"
      ]
     },
     "execution_count": 15,
     "metadata": {},
     "output_type": "execute_result"
    }
   ],
   "source": [
    "df.loc[147330]['sentiment']"
   ]
  },
  {
   "cell_type": "code",
   "execution_count": 16,
   "metadata": {},
   "outputs": [
    {
     "data": {
      "text/plain": [
       "\"They aren't very comfortable, are flimsy, and anyone within 100 feet will hear every lyric of your music without it being loud.Lacks bass too.They kinda suck\""
      ]
     },
     "execution_count": 16,
     "metadata": {},
     "output_type": "execute_result"
    }
   ],
   "source": [
    "df.loc[147330]['review_summary']"
   ]
  },
  {
   "cell_type": "markdown",
   "metadata": {},
   "source": [
    "---\n",
    "Plot avg sentiments per rating: "
   ]
  },
  {
   "cell_type": "code",
   "execution_count": 17,
   "metadata": {},
   "outputs": [
    {
     "data": {
      "text/html": [
       "<div>\n",
       "<style scoped>\n",
       "    .dataframe tbody tr th:only-of-type {\n",
       "        vertical-align: middle;\n",
       "    }\n",
       "\n",
       "    .dataframe tbody tr th {\n",
       "        vertical-align: top;\n",
       "    }\n",
       "\n",
       "    .dataframe thead th {\n",
       "        text-align: right;\n",
       "    }\n",
       "</style>\n",
       "<table border=\"1\" class=\"dataframe\">\n",
       "  <thead>\n",
       "    <tr style=\"text-align: right;\">\n",
       "      <th></th>\n",
       "      <th>Rating</th>\n",
       "      <th>Sentiment</th>\n",
       "    </tr>\n",
       "  </thead>\n",
       "  <tbody>\n",
       "    <tr>\n",
       "      <th>5</th>\n",
       "      <td>5.0</td>\n",
       "      <td>0.631771</td>\n",
       "    </tr>\n",
       "    <tr>\n",
       "      <th>4</th>\n",
       "      <td>4.0</td>\n",
       "      <td>0.531195</td>\n",
       "    </tr>\n",
       "    <tr>\n",
       "      <th>3</th>\n",
       "      <td>3.0</td>\n",
       "      <td>0.260090</td>\n",
       "    </tr>\n",
       "    <tr>\n",
       "      <th>2</th>\n",
       "      <td>2.0</td>\n",
       "      <td>0.248524</td>\n",
       "    </tr>\n",
       "    <tr>\n",
       "      <th>1</th>\n",
       "      <td>1.0</td>\n",
       "      <td>0.015100</td>\n",
       "    </tr>\n",
       "  </tbody>\n",
       "</table>\n",
       "</div>"
      ],
      "text/plain": [
       "   Rating  Sentiment\n",
       "5     5.0   0.631771\n",
       "4     4.0   0.531195\n",
       "3     3.0   0.260090\n",
       "2     2.0   0.248524\n",
       "1     1.0   0.015100"
      ]
     },
     "execution_count": 17,
     "metadata": {},
     "output_type": "execute_result"
    }
   ],
   "source": [
    "ratings = (df2.groupby('overall',as_index=False)['compound']\n",
    "           .mean()\n",
    "           .sort_values('overall', ascending = False))\n",
    "ratings.rename({'overall':'Rating', 'compound':'Sentiment' }, inplace=True, axis=1)\n",
    "ratings.index=[5,4,3,2,1]\n",
    "\n",
    "ratings"
   ]
  },
  {
   "cell_type": "code",
   "execution_count": 18,
   "metadata": {},
   "outputs": [
    {
     "data": {
      "image/png": "[encoded data removed]",
      "text/plain": [
       "<Figure size 576x288 with 1 Axes>"
      ]
     },
     "metadata": {
      "needs_background": "light"
     },
     "output_type": "display_data"
    }
   ],
   "source": [
    "plt.figure(figsize = (8,4))\n",
    "mycolors =['peachpuff', 'orange', 'darkorange', 'chocolate', 'saddlebrown']  \n",
    "\n",
    "sns.barplot(x='Rating', y='Sentiment', data = ratings,  palette= mycolors, order=[1,2,3,4,5])\n",
    "\n",
    "sns.despine()\n",
    "plt.title('Average Sentiment Per Rating')\n",
    "plt.xlabel('Rating', fontsize = 13)\n",
    "plt.ylabel('Sentiment (compound)', fontsize = 13);\n",
    "\n",
    "plt.savefig('../Images/Average_Sentiment_Per_Rating.jpg')"
   ]
  },
  {
   "cell_type": "markdown",
   "metadata": {},
   "source": [
    "---\n",
    "Plot sentiments over time: "
   ]
  },
  {
   "cell_type": "code",
   "execution_count": 49,
   "metadata": {},
   "outputs": [
    {
     "data": {
      "image/png": "[encoded data removed]",
      "text/plain": [
       "<Figure size 720x216 with 1 Axes>"
      ]
     },
     "metadata": {
      "needs_background": "light"
     },
     "output_type": "display_data"
    }
   ],
   "source": [
    "df2=df2[df2['year']>2003]\n",
    "\n",
    "plt.figure(figsize=(10,3))\n",
    "\n",
    "sns.lineplot(x='year', y= 'compound', data = df2[df2['overall']==5], \n",
    "             ci=0, label='rating=5', color='red')\n",
    "\n",
    "sns.lineplot(x='year', y= 'compound', data = df2[df2['overall']==4], \n",
    "             ci=0, label='rating=4', color='indianred')\n",
    "\n",
    "sns.lineplot(x='year', y= 'compound', data = df2[df2['overall']==3], \n",
    "             ci=0, label='rating=3', color='saddlebrown')\n",
    "\n",
    "sns.lineplot(x='year', y= 'compound', data = df2[df2['overall']==2], \n",
    "             ci=0, label='rating=2', color='orangered')\n",
    "\n",
    "sns.lineplot(x='year', y= 'compound', data = df2[df2['overall']==1], \n",
    "             ci=0, label='rating=1', color='orange')\n",
    "\n",
    "plt.legend(bbox_to_anchor=(1.05, 1))\n",
    "\n",
    "sns.despine()\n",
    "plt.title(\"Ratings' Average Sentiment Per Year\")\n",
    "plt.xlabel('Year', fontsize = 13)\n",
    "plt.ylabel(\"Sentiment (compound)\", fontsize = 13)\n",
    "\n",
    "plt.savefig(\"../Images/Ratings'_Average_Sentiment_Per_Year.jpg\", bbox_inches='tight');\n",
    "\n",
    "#mycolors =['saddlebrown', 'sienna','chocolate', 'darkorange', 'orange']  \n"
   ]
  },
  {
   "cell_type": "code",
   "execution_count": 50,
   "metadata": {},
   "outputs": [
    {
     "data": {
      "image/png": "[encoded data removed]",
      "text/plain": [
       "<Figure size 720x216 with 1 Axes>"
      ]
     },
     "metadata": {
      "needs_background": "light"
     },
     "output_type": "display_data"
    }
   ],
   "source": [
    "plt.figure(figsize=(10,3))\n",
    "sns.lineplot(x='year', y= 'compound', \n",
    "             data = df2, ci=0,  color='saddlebrown')\n",
    "\n",
    "sns.despine()\n",
    "plt.title(\"Average Sentiment Per Year\")\n",
    "plt.xlabel('Year', fontsize = 13)\n",
    "plt.ylabel(\"Sentiment (compound)\", fontsize = 13)\n",
    "\n",
    "plt.savefig(\"../Images/Average_Sentiment_Per_Year.jpg\", bbox_inches='tight');"
   ]
  }
 ],
 "metadata": {
  "kernelspec": {
   "display_name": "Python 3",
   "language": "python",
   "name": "python3"
  },
  "language_info": {
   "codemirror_mode": {
    "name": "ipython",
    "version": 3
   },
   "file_extension": ".py",
   "mimetype": "text/x-python",
   "name": "python",
   "nbconvert_exporter": "python",
   "pygments_lexer": "ipython3",
   "version": "3.8.2"
  }
 },
 "nbformat": 4,
 "nbformat_minor": 4
}
